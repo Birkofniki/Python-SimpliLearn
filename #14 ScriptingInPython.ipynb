{
 "cells": [
  {
   "cell_type": "code",
   "execution_count": 1,
   "metadata": {},
   "outputs": [
    {
     "name": "stdout",
     "output_type": "stream",
     "text": [
      "e:\\Anaconda_Python3_Codes\\python-codes\n",
      "e:\\Anaconda_Python3_Codes\\python-codes\\sample.txt\n"
     ]
    }
   ],
   "source": [
    "# Scripting refers to the process of writing pyhton codes to automate a task\n",
    "\n",
    "# we use libraries like the os library below\n",
    "# creating a sample.txt file in current directory\n",
    "\n",
    "import os\n",
    "def current_directory():\n",
    "    cwd=os.getcwd()\n",
    "    print(cwd)\n",
    "\n",
    "def file_path(filename):\n",
    "    path=os.path.abspath((filename))\n",
    "    print(path)\n",
    "\n",
    "current_directory()\n",
    "filename=\"sample.txt\"\n",
    "file_path(filename)\n",
    "\n"
   ]
  },
  {
   "cell_type": "markdown",
   "metadata": {},
   "source": [
    "# Automating creation of a file"
   ]
  },
  {
   "cell_type": "code",
   "execution_count": 15,
   "metadata": {},
   "outputs": [
    {
     "name": "stdout",
     "output_type": "stream",
     "text": [
      "File created\n"
     ]
    },
    {
     "name": "stderr",
     "output_type": "stream",
     "text": [
      "<>:9: SyntaxWarning: invalid escape sequence '\\A'\n",
      "<>:9: SyntaxWarning: invalid escape sequence '\\A'\n",
      "C:\\Users\\ADMIN\\AppData\\Local\\Temp\\ipykernel_23312\\1311040581.py:9: SyntaxWarning: invalid escape sequence '\\A'\n",
      "  dest=\"e:\\Anaconda_Python3_Codes\\python-codes\\sample2.txt\"\n"
     ]
    }
   ],
   "source": [
    "from os import path\n",
    "\n",
    "def createFile(dest): #dest refers to file destination\n",
    "    if not (path.isfile(dest)):\n",
    "        f=open(dest,\"w\")\n",
    "        f.write(\"Welcome to Python Scripting by Augastino\")\n",
    "        f.close()\n",
    "\n",
    "dest=\"e:\\Anaconda_Python3_Codes\\python-codes\\sample2.txt\"\n",
    "createFile(dest)\n",
    "print(\"File created\")\n"
   ]
  },
  {
   "cell_type": "markdown",
   "metadata": {},
   "source": [
    "# Time module"
   ]
  },
  {
   "cell_type": "code",
   "execution_count": 2,
   "metadata": {},
   "outputs": [
    {
     "name": "stdout",
     "output_type": "stream",
     "text": [
      "1717060745.331682\n"
     ]
    }
   ],
   "source": [
    "# Time module\n",
    "import time #time counts since 1st January, 1970\n",
    "\n",
    "epc=time.time()\n",
    "print(epc) # has no meaning to us, but we'll make it useful later by modifying\n"
   ]
  },
  {
   "cell_type": "code",
   "execution_count": 3,
   "metadata": {},
   "outputs": [
    {
     "name": "stdout",
     "output_type": "stream",
     "text": [
      "1717060920.254524\n",
      "time.struct_time(tm_year=2024, tm_mon=5, tm_mday=30, tm_hour=12, tm_min=22, tm_sec=0, tm_wday=3, tm_yday=151, tm_isdst=0)\n"
     ]
    }
   ],
   "source": [
    "import time #time counts since 1st January, 1970\n",
    "\n",
    "epc=time.time()\n",
    "print(epc)\n",
    "localtime=time.localtime(epc) \n",
    "print(localtime)\n",
    "\n"
   ]
  },
  {
   "cell_type": "code",
   "execution_count": 4,
   "metadata": {},
   "outputs": [
    {
     "name": "stdout",
     "output_type": "stream",
     "text": [
      "1717061631.0116146\n",
      "time.struct_time(tm_year=2024, tm_mon=5, tm_mday=30, tm_hour=12, tm_min=33, tm_sec=51, tm_wday=3, tm_yday=151, tm_isdst=0)\n",
      "2024\n"
     ]
    }
   ],
   "source": [
    "import time #time counts since 1st January, 1970\n",
    "\n",
    "epc=time.time()\n",
    "print(epc)\n",
    "localtime=time.localtime(epc) \n",
    "print(localtime)\n",
    "print(localtime.tm_year) # printing the year alone\n"
   ]
  },
  {
   "cell_type": "code",
   "execution_count": 9,
   "metadata": {},
   "outputs": [
    {
     "name": "stdout",
     "output_type": "stream",
     "text": [
      "1717061833.4855726\n",
      "time.struct_time(tm_year=2024, tm_mon=5, tm_mday=30, tm_hour=12, tm_min=37, tm_sec=13, tm_wday=3, tm_yday=151, tm_isdst=0)\n",
      "2024\n",
      "\n",
      " Thu May 30 12:37:13 2024\n"
     ]
    }
   ],
   "source": [
    "import time #time counts since 1st January, 1970\n",
    "\n",
    "epc=time.time()\n",
    "print(epc)\n",
    "localtime=time.localtime(epc) \n",
    "\n",
    "print(localtime)\n",
    "\n",
    "print(localtime.tm_year) # printing the year alone\n",
    "\n",
    "print(\"\\n\",time.ctime(epc)) # printing time in a more formatted way\n"
   ]
  },
  {
   "cell_type": "markdown",
   "metadata": {},
   "source": [
    "# smtp module, a protocol for sending emails"
   ]
  },
  {
   "cell_type": "code",
   "execution_count": 21,
   "metadata": {},
   "outputs": [
    {
     "ename": "SMTPAuthenticationError",
     "evalue": "(535, b'5.7.8 Username and Password not accepted. For more information, go to\\n5.7.8  https://support.google.com/mail/?p=BadCredentials ffacd0b85a97d-3557a1c93f7sm17027110f8f.74 - gsmtp')",
     "output_type": "error",
     "traceback": [
      "\u001b[1;31m---------------------------------------------------------------------------\u001b[0m",
      "\u001b[1;31mSMTPAuthenticationError\u001b[0m                   Traceback (most recent call last)",
      "Cell \u001b[1;32mIn[21], line 7\u001b[0m\n\u001b[0;32m      5\u001b[0m smtpOBJ\u001b[38;5;241m.\u001b[39mehlo()\n\u001b[0;32m      6\u001b[0m smtpOBJ\u001b[38;5;241m.\u001b[39mstarttls()\n\u001b[1;32m----> 7\u001b[0m \u001b[43msmtpOBJ\u001b[49m\u001b[38;5;241;43m.\u001b[39;49m\u001b[43mlogin\u001b[49m\u001b[43m(\u001b[49m\u001b[38;5;124;43m\"\u001b[39;49m\u001b[38;5;124;43mmulu.bytes@gmail.com\u001b[39;49m\u001b[38;5;124;43m\"\u001b[39;49m\u001b[43m,\u001b[49m\u001b[43m \u001b[49m\u001b[38;5;124;43m\"\u001b[39;49m\u001b[38;5;124;43mMulu@receive#$5k\u001b[39;49m\u001b[38;5;124;43m\"\u001b[39;49m\u001b[43m)\u001b[49m \u001b[38;5;66;03m#there will be email_ID and Password\u001b[39;00m\n\u001b[0;32m      8\u001b[0m smtpOBJ\u001b[38;5;241m.\u001b[39msendmail(\u001b[38;5;124m\"\u001b[39m\u001b[38;5;124mmulu.bytes@gmail.com\u001b[39m\u001b[38;5;124m\"\u001b[39m,\u001b[38;5;124m\"\u001b[39m\u001b[38;5;124monlinetutorservices542@gmail.com\u001b[39m\u001b[38;5;124m\"\u001b[39m, \u001b[38;5;124m\"\u001b[39m\u001b[38;5;124mSubject: SMTP check. \u001b[39m\u001b[38;5;130;01m\\n\u001b[39;00m\u001b[38;5;124m This is a test email\u001b[39m\u001b[38;5;124m\"\u001b[39m ) \u001b[38;5;66;03m# we insert to' and from' email IDs, and the message ttha we're sending\u001b[39;00m\n\u001b[0;32m      9\u001b[0m smtpOBJ\u001b[38;5;241m.\u001b[39mquit()\n",
      "File \u001b[1;32mc:\\Users\\ADMIN\\AppData\\Local\\Programs\\Python\\Python312\\Lib\\smtplib.py:750\u001b[0m, in \u001b[0;36mSMTP.login\u001b[1;34m(self, user, password, initial_response_ok)\u001b[0m\n\u001b[0;32m    747\u001b[0m         last_exception \u001b[38;5;241m=\u001b[39m e\n\u001b[0;32m    749\u001b[0m \u001b[38;5;66;03m# We could not login successfully.  Return result of last attempt.\u001b[39;00m\n\u001b[1;32m--> 750\u001b[0m \u001b[38;5;28;01mraise\u001b[39;00m last_exception\n",
      "File \u001b[1;32mc:\\Users\\ADMIN\\AppData\\Local\\Programs\\Python\\Python312\\Lib\\smtplib.py:739\u001b[0m, in \u001b[0;36mSMTP.login\u001b[1;34m(self, user, password, initial_response_ok)\u001b[0m\n\u001b[0;32m    737\u001b[0m method_name \u001b[38;5;241m=\u001b[39m \u001b[38;5;124m'\u001b[39m\u001b[38;5;124mauth_\u001b[39m\u001b[38;5;124m'\u001b[39m \u001b[38;5;241m+\u001b[39m authmethod\u001b[38;5;241m.\u001b[39mlower()\u001b[38;5;241m.\u001b[39mreplace(\u001b[38;5;124m'\u001b[39m\u001b[38;5;124m-\u001b[39m\u001b[38;5;124m'\u001b[39m, \u001b[38;5;124m'\u001b[39m\u001b[38;5;124m_\u001b[39m\u001b[38;5;124m'\u001b[39m)\n\u001b[0;32m    738\u001b[0m \u001b[38;5;28;01mtry\u001b[39;00m:\n\u001b[1;32m--> 739\u001b[0m     (code, resp) \u001b[38;5;241m=\u001b[39m \u001b[38;5;28;43mself\u001b[39;49m\u001b[38;5;241;43m.\u001b[39;49m\u001b[43mauth\u001b[49m\u001b[43m(\u001b[49m\n\u001b[0;32m    740\u001b[0m \u001b[43m        \u001b[49m\u001b[43mauthmethod\u001b[49m\u001b[43m,\u001b[49m\u001b[43m \u001b[49m\u001b[38;5;28;43mgetattr\u001b[39;49m\u001b[43m(\u001b[49m\u001b[38;5;28;43mself\u001b[39;49m\u001b[43m,\u001b[49m\u001b[43m \u001b[49m\u001b[43mmethod_name\u001b[49m\u001b[43m)\u001b[49m\u001b[43m,\u001b[49m\n\u001b[0;32m    741\u001b[0m \u001b[43m        \u001b[49m\u001b[43minitial_response_ok\u001b[49m\u001b[38;5;241;43m=\u001b[39;49m\u001b[43minitial_response_ok\u001b[49m\u001b[43m)\u001b[49m\n\u001b[0;32m    742\u001b[0m     \u001b[38;5;66;03m# 235 == 'Authentication successful'\u001b[39;00m\n\u001b[0;32m    743\u001b[0m     \u001b[38;5;66;03m# 503 == 'Error: already authenticated'\u001b[39;00m\n\u001b[0;32m    744\u001b[0m     \u001b[38;5;28;01mif\u001b[39;00m code \u001b[38;5;129;01min\u001b[39;00m (\u001b[38;5;241m235\u001b[39m, \u001b[38;5;241m503\u001b[39m):\n",
      "File \u001b[1;32mc:\\Users\\ADMIN\\AppData\\Local\\Programs\\Python\\Python312\\Lib\\smtplib.py:662\u001b[0m, in \u001b[0;36mSMTP.auth\u001b[1;34m(self, mechanism, authobject, initial_response_ok)\u001b[0m\n\u001b[0;32m    660\u001b[0m \u001b[38;5;28;01mif\u001b[39;00m code \u001b[38;5;129;01min\u001b[39;00m (\u001b[38;5;241m235\u001b[39m, \u001b[38;5;241m503\u001b[39m):\n\u001b[0;32m    661\u001b[0m     \u001b[38;5;28;01mreturn\u001b[39;00m (code, resp)\n\u001b[1;32m--> 662\u001b[0m \u001b[38;5;28;01mraise\u001b[39;00m SMTPAuthenticationError(code, resp)\n",
      "\u001b[1;31mSMTPAuthenticationError\u001b[0m: (535, b'5.7.8 Username and Password not accepted. For more information, go to\\n5.7.8  https://support.google.com/mail/?p=BadCredentials ffacd0b85a97d-3557a1c93f7sm17027110f8f.74 - gsmtp')"
     ]
    }
   ],
   "source": [
    "# It refers to Simple Mail Transfer Protocol\n",
    "import smtplib\n",
    "\n",
    "smtpOBJ=smtplib.SMTP(\"smtp.gmail.com\", 587) # 587 is the standard port number, we storre the function in smtp object\n",
    "smtpOBJ.ehlo()\n",
    "smtpOBJ.starttls()\n",
    "smtpOBJ.login(\"mulu.bytes@gmail.com\", \"Mulu@receive#$5k\") #there will be email_ID and Password\n",
    "smtpOBJ.sendmail(\"mulu.bytes@gmail.com\",\"onlinetutorservices542@gmail.com\", \"Subject: SMTP check. \\n This is a test email\" ) # we insert to' and from' email IDs, and the message ttha we're sending\n",
    "smtpOBJ.quit()\n",
    "\n",
    "# will revisit to resolve SMTPAuthenticationError\n",
    "\n"
   ]
  },
  {
   "cell_type": "markdown",
   "metadata": {},
   "source": [
    "# Programs that determine things at RunTime"
   ]
  },
  {
   "cell_type": "code",
   "execution_count": 23,
   "metadata": {},
   "outputs": [
    {
     "name": "stdout",
     "output_type": "stream",
     "text": [
      "10\n",
      "20\n",
      "30\n",
      "40\n",
      "50\n",
      "32\n",
      "Augastino\n"
     ]
    }
   ],
   "source": [
    "def funcl(*args): # *args takes any number of arguments and store them in the variable args\n",
    "    for i in args:\n",
    "        print(i)\n",
    "\n",
    "funcl(10,20,30,40,50, 32, \"Augastino\")\n",
    "\n"
   ]
  },
  {
   "cell_type": "code",
   "execution_count": 24,
   "metadata": {},
   "outputs": [
    {
     "name": "stdout",
     "output_type": "stream",
     "text": [
      "('a', 10)\n",
      "('b', 20)\n",
      "('c', 30)\n",
      "('d', 40)\n",
      "('e', 'Augastino')\n"
     ]
    }
   ],
   "source": [
    "def funcl(*args, **kwargs): # **kwargs helps in labelling\n",
    "    for i in kwargs.items():\n",
    "        print(i)\n",
    "\n",
    "funcl(a=10,b=20,c=30,d=40, e=\"Augastino\")\n"
   ]
  },
  {
   "cell_type": "markdown",
   "metadata": {},
   "source": [
    "# Nesting of Functions\n",
    "Another program for demonstrating automation"
   ]
  },
  {
   "cell_type": "code",
   "execution_count": 26,
   "metadata": {},
   "outputs": [
    {
     "name": "stdout",
     "output_type": "stream",
     "text": [
      "11\n"
     ]
    }
   ],
   "source": [
    "# defines parsing of functions as objects in Python\n",
    "def func1():\n",
    "    x=10\n",
    "    def func2(x):\n",
    "        return x+1\n",
    "    return func2(x)\n",
    "\n",
    "result=func1()\n",
    "print(result) # This should give us 10+1=11\n"
   ]
  },
  {
   "cell_type": "code",
   "execution_count": 28,
   "metadata": {},
   "outputs": [
    {
     "name": "stdout",
     "output_type": "stream",
     "text": [
      "This is the first function\n",
      "This is the nested function\n",
      "This is the outer function\n"
     ]
    }
   ],
   "source": [
    "def func1(called_func):\n",
    "    print(\"This is the first function\")\n",
    "    def nested_func1(called_func):\n",
    "        print(\"This is the nested function\")\n",
    "        called_func()\n",
    "    return nested_func1(called_func)\n",
    "\n",
    "def outer_func3():\n",
    "    print(\"This is the outer function\")\n",
    "\n",
    "obj=func1(outer_func3) # parsing a function as an object\n"
   ]
  },
  {
   "cell_type": "markdown",
   "metadata": {},
   "source": [
    "# Creating Classes at runtime"
   ]
  },
  {
   "cell_type": "code",
   "execution_count": 29,
   "metadata": {},
   "outputs": [
    {
     "name": "stdout",
     "output_type": "stream",
     "text": [
      "5\n",
      "10\n"
     ]
    }
   ],
   "source": [
    "# we use the function \"factory\"\n",
    "B=type(\"BaseClass\", (object,), {})\n",
    "Class1=type(\"Class1\",(B,), {\"val\":5} )\n",
    "Class2=type(\"Class2\", (B,), {\"val\":10})\n",
    "\n",
    "def ClassCreator(bool):\n",
    "    if bool:\n",
    "        return Class1()\n",
    "    else:\n",
    "        return Class2()\n",
    "\n",
    "print(ClassCreator(True).val)\n",
    "print(ClassCreator(False).val)\n"
   ]
  },
  {
   "cell_type": "code",
   "execution_count": 31,
   "metadata": {},
   "outputs": [
    {
     "name": "stdout",
     "output_type": "stream",
     "text": [
      "This is the first function\n",
      "This is the nested function\n",
      "This is the outer function\n"
     ]
    },
    {
     "ename": "TypeError",
     "evalue": "'NoneType' object is not callable",
     "output_type": "error",
     "traceback": [
      "\u001b[1;31m---------------------------------------------------------------------------\u001b[0m",
      "\u001b[1;31mTypeError\u001b[0m                                 Traceback (most recent call last)",
      "Cell \u001b[1;32mIn[31], line 13\u001b[0m\n\u001b[0;32m      9\u001b[0m \u001b[38;5;129m@func1\u001b[39m \u001b[38;5;66;03m# adding a decorator\u001b[39;00m\n\u001b[0;32m     10\u001b[0m \u001b[38;5;28;01mdef\u001b[39;00m \u001b[38;5;21mouter_func3\u001b[39m():\n\u001b[0;32m     11\u001b[0m     \u001b[38;5;28mprint\u001b[39m(\u001b[38;5;124m\"\u001b[39m\u001b[38;5;124mThis is the outer function\u001b[39m\u001b[38;5;124m\"\u001b[39m)\n\u001b[1;32m---> 13\u001b[0m \u001b[43mouter_func3\u001b[49m\u001b[43m(\u001b[49m\u001b[43m)\u001b[49m \u001b[38;5;66;03m# parsing a function as an object\u001b[39;00m\n",
      "\u001b[1;31mTypeError\u001b[0m: 'NoneType' object is not callable"
     ]
    }
   ],
   "source": [
    "# Another way of calling outer_func3\n",
    "def func1(called_func):\n",
    "    print(\"This is the first function\")\n",
    "    def nested_func1(called_func):\n",
    "        print(\"This is the nested function\")\n",
    "        called_func()\n",
    "    return nested_func1(called_func)\n",
    "\n",
    "@func1 # adding a decorator\n",
    "def outer_func3():\n",
    "    print(\"This is the outer function\")\n",
    "\n",
    "outer_func3() # parsing a function as an object\n"
   ]
  }
 ],
 "metadata": {
  "kernelspec": {
   "display_name": "Python 3",
   "language": "python",
   "name": "python3"
  },
  "language_info": {
   "codemirror_mode": {
    "name": "ipython",
    "version": 3
   },
   "file_extension": ".py",
   "mimetype": "text/x-python",
   "name": "python",
   "nbconvert_exporter": "python",
   "pygments_lexer": "ipython3",
   "version": "3.12.2"
  }
 },
 "nbformat": 4,
 "nbformat_minor": 2
}
