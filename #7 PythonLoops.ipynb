{
 "cells": [
  {
   "cell_type": "markdown",
   "metadata": {},
   "source": [
    "# The while loop in Python"
   ]
  },
  {
   "cell_type": "code",
   "execution_count": 4,
   "metadata": {},
   "outputs": [
    {
     "name": "stdout",
     "output_type": "stream",
     "text": [
      "21 is a multiple of 7\n"
     ]
    }
   ],
   "source": [
    "# A demo for a program that prompts the user to enter a multiple of 7. It'll do this untill the user enters a correct value(multiple of 7)\n",
    "val=int(input(\"Enter a multiple of 7\")) #any input from the user is always a string, you have to convert it to an int value\n",
    "while val%7 !=0:\n",
    "    val= int(input(\"Try again, Enter a valid multiple of 7 again please\"))\n",
    "else:\n",
    "    print(\"%d is a multiple of 7\" %val) #when you want to print the value of a variable within a sentence,we use the placeholder %d-for integer, %s-for string, and then after quotes you enter the %variable name\n"
   ]
  },
  {
   "cell_type": "code",
   "execution_count": 5,
   "metadata": {},
   "outputs": [
    {
     "name": "stdout",
     "output_type": "stream",
     "text": [
      "32 is a multiple of 8\n"
     ]
    }
   ],
   "source": [
    "# A demo for a program that prompts the user to enter a multiple of 7. It'll do this untill the user enters a correct value(multiple of 7)\n",
    "val=int(input(\"Enter a multiple of 8\")) #any input from the user is always a string, you have to convert it to an int value\n",
    "while val%8 !=0:\n",
    "    val= int(input(\"Try again, please Enter a valid multiple of 8\"))\n",
    "else:\n",
    "    print(\"%d is a multiple of 8\" %val) #when you want to print the value of a variable within a sentence,we use the placeholder %d-for integer, %s-for string, and then after quotes you enter the %variable name\n"
   ]
  },
  {
   "cell_type": "code",
   "execution_count": null,
   "metadata": {},
   "outputs": [],
   "source": []
  }
 ],
 "metadata": {
  "kernelspec": {
   "display_name": "Python 3",
   "language": "python",
   "name": "python3"
  },
  "language_info": {
   "codemirror_mode": {
    "name": "ipython",
    "version": 3
   },
   "file_extension": ".py",
   "mimetype": "text/x-python",
   "name": "python",
   "nbconvert_exporter": "python",
   "pygments_lexer": "ipython3",
   "version": "3.12.2"
  }
 },
 "nbformat": 4,
 "nbformat_minor": 2
}
