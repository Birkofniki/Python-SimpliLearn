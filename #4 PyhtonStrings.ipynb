{
 "cells": [
  {
   "cell_type": "markdown",
   "metadata": {},
   "source": [
    "# Strings in Python"
   ]
  },
  {
   "cell_type": "code",
   "execution_count": 95,
   "metadata": {},
   "outputs": [
    {
     "name": "stdout",
     "output_type": "stream",
     "text": [
      "Simplilearn\n"
     ]
    }
   ],
   "source": [
    "stg=\"Simplilearn\" # a string variable\n",
    "print(stg)\n"
   ]
  },
  {
   "cell_type": "code",
   "execution_count": 96,
   "metadata": {},
   "outputs": [
    {
     "name": "stdout",
     "output_type": "stream",
     "text": [
      "Augastine's Birthday\n"
     ]
    }
   ],
   "source": [
    "stg=\"Augastine's Birthday\" # If your sting has within it single quotes, you enclose within double quotes.\n",
    "print(stg)\n"
   ]
  },
  {
   "cell_type": "code",
   "execution_count": 97,
   "metadata": {},
   "outputs": [
    {
     "name": "stdout",
     "output_type": "stream",
     "text": [
      "Augastine said \"it's my birthday today\" \n"
     ]
    }
   ],
   "source": [
    "stg=\"Augastine said \\\"it's my birthday today\\\" \" # The back slash is used to escape the character immediately after it. The part that follows immediately after back slash is considered as part of the string.\n",
    "print(stg)\n"
   ]
  },
  {
   "cell_type": "code",
   "execution_count": 98,
   "metadata": {},
   "outputs": [
    {
     "name": "stdout",
     "output_type": "stream",
     "text": [
      "hey there!\n",
      "Welcoe to my portfolio.\n"
     ]
    }
   ],
   "source": [
    "# A string with multiple lines\n",
    "# we start and end then with three quotes\n",
    "str2=\"\"\"hey there!\n",
    "Welcoe to my portfolio.\"\"\"\n",
    "\n",
    "print(str2)\n"
   ]
  },
  {
   "cell_type": "code",
   "execution_count": 99,
   "metadata": {},
   "outputs": [
    {
     "name": "stdout",
     "output_type": "stream",
     "text": [
      "34\n"
     ]
    }
   ],
   "source": [
    "# knowing the length of a string\n",
    "# Note that a space is counted as a character in this function\n",
    "print(len(str2))\n"
   ]
  },
  {
   "cell_type": "code",
   "execution_count": 100,
   "metadata": {},
   "outputs": [
    {
     "name": "stdout",
     "output_type": "stream",
     "text": [
      "Augastine\n"
     ]
    }
   ],
   "source": [
    "stg3=\"Augastine\"\n",
    "print(stg3)\n"
   ]
  },
  {
   "cell_type": "code",
   "execution_count": 101,
   "metadata": {},
   "outputs": [
    {
     "name": "stdout",
     "output_type": "stream",
     "text": [
      "t\n"
     ]
    }
   ],
   "source": [
    "# To extract each character, this is what we do;\n",
    "print(stg3[5])\n"
   ]
  },
  {
   "cell_type": "code",
   "execution_count": 102,
   "metadata": {},
   "outputs": [
    {
     "name": "stdout",
     "output_type": "stream",
     "text": [
      "A\n",
      "u\n",
      "g\n",
      "a\n",
      "s\n",
      "t\n",
      "i\n",
      "n\n",
      "e\n"
     ]
    }
   ],
   "source": [
    "# Extracting each character in a new line using for loop\n",
    "for i in stg3:\n",
    "    print(i)\n"
   ]
  },
  {
   "cell_type": "code",
   "execution_count": 103,
   "metadata": {},
   "outputs": [
    {
     "name": "stdout",
     "output_type": "stream",
     "text": [
      "Augastine"
     ]
    }
   ],
   "source": [
    "# To print them on the same line, we add the end\"\" attribute, as shown below:\n",
    "for i in stg3:\n",
    "    print(i,end=\"\")\n"
   ]
  },
  {
   "cell_type": "markdown",
   "metadata": {},
   "source": [
    "# Slicing strings\n"
   ]
  },
  {
   "cell_type": "code",
   "execution_count": 104,
   "metadata": {},
   "outputs": [
    {
     "name": "stdout",
     "output_type": "stream",
     "text": [
      "Augas\n"
     ]
    }
   ],
   "source": [
    "# this entails printing some portion of the characters\n",
    "print(stg3[0:5])\n"
   ]
  },
  {
   "cell_type": "code",
   "execution_count": 105,
   "metadata": {},
   "outputs": [
    {
     "name": "stdout",
     "output_type": "stream",
     "text": [
      "tine\n"
     ]
    }
   ],
   "source": [
    "# printing from 5th index to the end\n",
    "print(stg3[5:])\n"
   ]
  },
  {
   "cell_type": "code",
   "execution_count": 106,
   "metadata": {},
   "outputs": [
    {
     "name": "stdout",
     "output_type": "stream",
     "text": [
      "gas\n"
     ]
    }
   ],
   "source": [
    "# To print some part\n",
    "print(stg3[2:5]) # Remember in this method 'the last element is always excluded\n"
   ]
  },
  {
   "cell_type": "markdown",
   "metadata": {},
   "source": [
    "# In-built Methods to work with strings in Python"
   ]
  },
  {
   "cell_type": "code",
   "execution_count": 107,
   "metadata": {},
   "outputs": [
    {
     "name": "stdout",
     "output_type": "stream",
     "text": [
      "WELCOME TO MY PORTFOLIO\n"
     ]
    }
   ],
   "source": [
    "str4=\"Welcome to my portfolio\"\n",
    "print(str4.upper()) #prints the string in uppercase\n"
   ]
  },
  {
   "cell_type": "code",
   "execution_count": 108,
   "metadata": {},
   "outputs": [
    {
     "name": "stdout",
     "output_type": "stream",
     "text": [
      "welcome to my portfolio\n"
     ]
    }
   ],
   "source": [
    "print(str4.lower()) # makes string lowercase\n"
   ]
  },
  {
   "cell_type": "code",
   "execution_count": 109,
   "metadata": {},
   "outputs": [],
   "source": [
    "# find the location of an element\n"
   ]
  },
  {
   "cell_type": "code",
   "execution_count": 110,
   "metadata": {},
   "outputs": [
    {
     "name": "stdout",
     "output_type": "stream",
     "text": [
      "WELOCME TO SIMPLILEARN\n"
     ]
    }
   ],
   "source": [
    "str4=\"welocme to Simplilearn\"\n",
    "print(str4.upper()) # makes string uppercase\n"
   ]
  },
  {
   "cell_type": "code",
   "execution_count": 111,
   "metadata": {},
   "outputs": [
    {
     "name": "stdout",
     "output_type": "stream",
     "text": [
      "2\n"
     ]
    }
   ],
   "source": [
    "#The Find function/Method: finds the index of a character.\n",
    "print(str4.find(\"l\"))\n"
   ]
  },
  {
   "cell_type": "code",
   "execution_count": 112,
   "metadata": {},
   "outputs": [
    {
     "name": "stdout",
     "output_type": "stream",
     "text": [
      "11\n"
     ]
    }
   ],
   "source": [
    "#The index function/Method: finds the index of a character.\n",
    "print(str4.index(\"S\"))\n"
   ]
  },
  {
   "cell_type": "code",
   "execution_count": 113,
   "metadata": {},
   "outputs": [
    {
     "name": "stdout",
     "output_type": "stream",
     "text": [
      "2\n"
     ]
    }
   ],
   "source": [
    "print(str4.index(\"l\"))\n"
   ]
  },
  {
   "cell_type": "code",
   "execution_count": 114,
   "metadata": {},
   "outputs": [
    {
     "name": "stdout",
     "output_type": "stream",
     "text": [
      "welocme to Simplilearn\n"
     ]
    }
   ],
   "source": [
    "# Split Function\n",
    "print(str4) \n"
   ]
  },
  {
   "cell_type": "code",
   "execution_count": 115,
   "metadata": {},
   "outputs": [
    {
     "name": "stdout",
     "output_type": "stream",
     "text": [
      "['welocme', 'to', 'Simplilearn']\n"
     ]
    }
   ],
   "source": [
    "print(str4.split(\" \")) # Splits the words to print each separate from each space, the quote have a space between\n"
   ]
  },
  {
   "cell_type": "code",
   "execution_count": 116,
   "metadata": {},
   "outputs": [
    {
     "name": "stdout",
     "output_type": "stream",
     "text": [
      "['welocme', 'to', 'Simplilearn']\n"
     ]
    }
   ],
   "source": [
    "# We can store split in a variable as below\n",
    "x= str4.split(\" \")\n",
    "print(x)\n"
   ]
  },
  {
   "cell_type": "code",
   "execution_count": 117,
   "metadata": {},
   "outputs": [
    {
     "data": {
      "text/plain": [
       "'welocme to Augastino tutorials'"
      ]
     },
     "execution_count": 117,
     "metadata": {},
     "output_type": "execute_result"
    }
   ],
   "source": [
    "# Replacing values in a String\n",
    "# here we will replace simplilearn with \"Augastino tutorials\" in the string 'welocme', 'to', 'Simplilearn']\n",
    "str4.replace(\"Simplilearn\",\"Augastino tutorials\")\n"
   ]
  },
  {
   "cell_type": "code",
   "execution_count": 118,
   "metadata": {},
   "outputs": [
    {
     "data": {
      "text/plain": [
       "('welocme', ' to ', 'Simplilearn')"
      ]
     },
     "execution_count": 118,
     "metadata": {},
     "output_type": "execute_result"
    }
   ],
   "source": [
    "# Partition Method for tuples\n",
    "str4.rpartition(\" to \") #\n"
   ]
  },
  {
   "cell_type": "code",
   "execution_count": 119,
   "metadata": {},
   "outputs": [
    {
     "name": "stdout",
     "output_type": "stream",
     "text": [
      "good morning\n"
     ]
    }
   ],
   "source": [
    "# Concatenation of Strings\n",
    "strX=\"good\"\n",
    "strY=\"morning\"\n",
    "mainstr=strX+\" \"+strY\n",
    "print(mainstr)\n"
   ]
  },
  {
   "cell_type": "code",
   "execution_count": 121,
   "metadata": {},
   "outputs": [
    {
     "name": "stdout",
     "output_type": "stream",
     "text": [
      "Good morning,ladies and gennts!\n"
     ]
    }
   ],
   "source": [
    "# Adding many Strings together\n",
    "strX=\"Good\"\n",
    "strY=\"morning\"\n",
    "strZ=\"ladies\"\n",
    "strP=\"and\"\n",
    "strQ=\"gennts\"\n",
    "# we use the inbuilt format for strings\n",
    "\n",
    "mainstrB=\"{} {},{} {} {}!\".format(strX,strY,strZ,strP,strQ) # the curly-braces{} are placeholders, they'll be replaced by the values in the strings\n",
    "print(mainstrB)\n"
   ]
  }
 ],
 "metadata": {
  "kernelspec": {
   "display_name": "Python 3",
   "language": "python",
   "name": "python3"
  },
  "language_info": {
   "codemirror_mode": {
    "name": "ipython",
    "version": 3
   },
   "file_extension": ".py",
   "mimetype": "text/x-python",
   "name": "python",
   "nbconvert_exporter": "python",
   "pygments_lexer": "ipython3",
   "version": "3.12.2"
  }
 },
 "nbformat": 4,
 "nbformat_minor": 2
}
