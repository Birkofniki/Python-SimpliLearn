{
 "cells": [
  {
   "cell_type": "markdown",
   "metadata": {},
   "source": [
    "# for loop in python"
   ]
  },
  {
   "cell_type": "code",
   "execution_count": 1,
   "metadata": {},
   "outputs": [
    {
     "name": "stdout",
     "output_type": "stream",
     "text": [
      "1 2 9.4\n"
     ]
    }
   ],
   "source": [
    "# it's used to iterate over a sequence, which could be a list, tuple, array, or even string\n",
    "x=[1,2,9.4,\"Augastine\"]\n",
    "print(x[0], x[1], x[2]) # printing them using their indices\n"
   ]
  },
  {
   "cell_type": "code",
   "execution_count": 2,
   "metadata": {},
   "outputs": [
    {
     "name": "stdout",
     "output_type": "stream",
     "text": [
      "1\n",
      "2\n",
      "9.4\n",
      "Augastine\n"
     ]
    }
   ],
   "source": [
    "# For the case above, the list could have had so many elements, so now we use a for loop here..\n",
    "x=[1,2,9.4,\"Augastine\"]\n",
    "for i in x:\n",
    "    print(i) # printing them using their indices, where i keeps taking one value at a time\n"
   ]
  },
  {
   "cell_type": "code",
   "execution_count": 3,
   "metadata": {},
   "outputs": [
    {
     "name": "stdout",
     "output_type": "stream",
     "text": [
      "A\n",
      "u\n",
      "g\n",
      "a\n",
      "s\n",
      "t\n",
      "i\n",
      "n\n",
      "o\n"
     ]
    }
   ],
   "source": [
    "# for a string now\n",
    "y=\"Augastino\"\n",
    "for i in y:\n",
    "    print(i)\n"
   ]
  },
  {
   "cell_type": "code",
   "execution_count": 4,
   "metadata": {},
   "outputs": [
    {
     "name": "stdout",
     "output_type": "stream",
     "text": [
      "0 , 1 , 2 , 3 , 4 , 5 , 6 , 7 , 8 , 9 , 10 , 11 , 12 , 13 , 14 , 15 , 16 , 17 , 18 , 19 , 20 , "
     ]
    }
   ],
   "source": [
    "# printing all numbers in the range of 0-20\n",
    "for i in range(0,21):\n",
    "    print(i, end=\" , \")\n"
   ]
  },
  {
   "cell_type": "code",
   "execution_count": 5,
   "metadata": {},
   "outputs": [
    {
     "name": "stdout",
     "output_type": "stream",
     "text": [
      "0 , 2 , 4 , 6 , 8 , 10 , 12 , 14 , 16 , 18 , 20 , "
     ]
    }
   ],
   "source": [
    "# printing even number in the range of 0-20\n",
    "# use if statement\n",
    "for i in range(0,21):\n",
    "    if i%2==0:\n",
    "        print(i, end=\" , \")\n"
   ]
  },
  {
   "cell_type": "code",
   "execution_count": 6,
   "metadata": {},
   "outputs": [
    {
     "name": "stdout",
     "output_type": "stream",
     "text": [
      "0, 2, 4, 6, 8, 10, 12, 14, 16, 18, 20, "
     ]
    }
   ],
   "source": [
    "# another method, of printing each second element in the range\n",
    "for i in range(0,21,2):\n",
    "    print(i, end=\", \")\n"
   ]
  },
  {
   "cell_type": "code",
   "execution_count": 7,
   "metadata": {},
   "outputs": [
    {
     "name": "stdout",
     "output_type": "stream",
     "text": [
      "110\n"
     ]
    }
   ],
   "source": [
    "# finding sum of the even numbers in the range of 0-20\n",
    "# use if statement\n",
    "sum=0\n",
    "for i in range(0,21):\n",
    "    if i%2==0:\n",
    "        sum=sum+i\n",
    "print(sum) \n",
    "# poor identation gives wrong or misleading outcome\n"
   ]
  },
  {
   "cell_type": "markdown",
   "metadata": {},
   "source": [
    "# Printing Patterns in Python"
   ]
  },
  {
   "cell_type": "code",
   "execution_count": 9,
   "metadata": {},
   "outputs": [
    {
     "name": "stdout",
     "output_type": "stream",
     "text": [
      "1 \n",
      "1 2 \n",
      "1 2 3 \n",
      "1 2 3 4 \n",
      "1 2 3 4 5 \n",
      "1 2 3 4 5 6 \n",
      "1 2 3 4 5 6 7 \n",
      "1 2 3 4 5 6 7 8 \n"
     ]
    }
   ],
   "source": [
    "# For instance print this...\n",
    " # 1\n",
    " # 12\n",
    " # 123\n",
    " # 1234\n",
    " # 12345\n",
    "\n",
    "# Start by changing input of the user from string to integer\n",
    "n= int(input(\"Enter a number\"))\n",
    "for i in range(1, n+1) :\n",
    "    for j in range(1, i+1):\n",
    "        print(j, end=\" \")\n",
    "    print()\n",
    "    "
   ]
  },
  {
   "cell_type": "code",
   "execution_count": 10,
   "metadata": {},
   "outputs": [
    {
     "name": "stdout",
     "output_type": "stream",
     "text": [
      "[[5], [4]]\n"
     ]
    }
   ],
   "source": [
    "# Accessing the elements of a matrix\n",
    "r= int(input(\"Enter number of rows\"))\n",
    "c= int(input(\"Enter number columns\"))\n",
    "x= [] # creating a list\n",
    "val= []\n",
    "for i in range(0,r): # for iterating over the elements/lists in x\n",
    "    for j in range (0,c): # for iterating over the elements within the lists in x\n",
    "        val.insert(j,int (input(\"enter the %d * %d element\" %(i,j) ))) # val is the list in x, insert is the method used to insert elements into a list\n",
    "    x.insert(i,val)\n",
    "    val= [] #clearing val everytime we exit the for loop\n",
    "y= []\n",
    "for i in range(0,r): # for iterating over the elements/lists in y\n",
    "    for j in range (0, c): # for iterating over the elements within the lists in x\n",
    "        val.insert(j,int (input(\"enter the %d * %d element\" %(i,j) ))) # val is the list in x, insert is the method used to insert elements into a list\n",
    "    y.insert(i,val)\n",
    "    val=[]\n",
    "sum=[]\n",
    "\n",
    "for i in range (0,r):\n",
    "    for j in range (0,c):\n",
    "        val.insert(j,x[i][j] + y[i][j] )\n",
    "    sum.insert(i,val)\n",
    "    val=[]\n",
    "print(sum)\n",
    "    \n"
   ]
  }
 ],
 "metadata": {
  "kernelspec": {
   "display_name": "Python 3",
   "language": "python",
   "name": "python3"
  },
  "language_info": {
   "codemirror_mode": {
    "name": "ipython",
    "version": 3
   },
   "file_extension": ".py",
   "mimetype": "text/x-python",
   "name": "python",
   "nbconvert_exporter": "python",
   "pygments_lexer": "ipython3",
   "version": "3.12.2"
  }
 },
 "nbformat": 4,
 "nbformat_minor": 2
}
