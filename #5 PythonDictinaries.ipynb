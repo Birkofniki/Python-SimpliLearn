{
 "cells": [
  {
   "cell_type": "markdown",
   "metadata": {},
   "source": [
    "# Creating Dictionaries in Python"
   ]
  },
  {
   "cell_type": "code",
   "execution_count": 7,
   "metadata": {},
   "outputs": [
    {
     "name": "stdout",
     "output_type": "stream",
     "text": [
      "{}\n",
      "<class 'dict'>\n"
     ]
    }
   ],
   "source": [
    "dict1={}\n",
    "print(dict1)\n",
    "print(type(dict1))\n",
    "\n"
   ]
  },
  {
   "cell_type": "code",
   "execution_count": 8,
   "metadata": {},
   "outputs": [
    {
     "name": "stdout",
     "output_type": "stream",
     "text": [
      "{1: 'Welcome', 2: 'to', 3: 'Augastino', 4: 'Pyhton', 5: 'Tutorials'}\n"
     ]
    }
   ],
   "source": [
    "dict2={1:\"Welcome\", 2:\"to\", 3:\"Augastino\", 4:\"Pyhton\", 5:\"Tutorials\"} #The keys can be integers like this\n",
    "print(dict2)\n"
   ]
  },
  {
   "cell_type": "code",
   "execution_count": 9,
   "metadata": {},
   "outputs": [
    {
     "name": "stdout",
     "output_type": "stream",
     "text": [
      "{'name': 'Augastino', 'age': '26', 'Profession': 'Data Science', 'Level': 'Expert', 'Coding Language': 'Python'}\n"
     ]
    }
   ],
   "source": [
    "dict3={\"name\":\"Augastino\", \"age\":\"26\", \"Profession\":\"Data Science\", \"Level\":\"Expert\", \"Coding Language\":\"Python\"} #The keys can be strings like this\n",
    "print(dict3)\n"
   ]
  },
  {
   "cell_type": "markdown",
   "metadata": {},
   "source": [
    "# Creating Dictionaries Using the dict Method\n"
   ]
  },
  {
   "cell_type": "code",
   "execution_count": 11,
   "metadata": {},
   "outputs": [
    {
     "name": "stdout",
     "output_type": "stream",
     "text": [
      "{1: 'Welcome', 2: 'to', 3: 'Augastino', 4: 'Pyhton', 5: 'Tutorials'}\n"
     ]
    }
   ],
   "source": [
    "# using the dict method, make sure you don't name any variable as dict\n",
    "dict4=dict({1:\"Welcome\", 2:\"to\", 3:\"Augastino\", 4:\"Pyhton\", 5:\"Tutorials\"}) # Not commonly used, the above method is recommended\n",
    "print(dict4)\n"
   ]
  },
  {
   "cell_type": "code",
   "execution_count": 14,
   "metadata": {},
   "outputs": [
    {
     "name": "stdout",
     "output_type": "stream",
     "text": [
      "{1: 'Welcome', 2: 'to', 3: 'Augastino', 4: 'Pyhton', 5: 'Tutorials'}\n"
     ]
    }
   ],
   "source": [
    "#Method 3 of creating a variable\n",
    "dict5=dict([(1,\"Welcome\"), (2,\"to\"), (3,\"Augastino\"), (4,\"Pyhton\"), (5,\"Tutorials\")])\n",
    "print(dict5)\n"
   ]
  },
  {
   "cell_type": "markdown",
   "metadata": {},
   "source": [
    "# Nesting Dictionaries"
   ]
  },
  {
   "cell_type": "code",
   "execution_count": 15,
   "metadata": {},
   "outputs": [
    {
     "name": "stdout",
     "output_type": "stream",
     "text": [
      "{'name': {'first': 'Augstino', 'Last': 'Ndeti'}, 'age': 22, 'Profession': {'Web Developer', 'Business Developer', 'Senior Data Scientist'}}\n"
     ]
    }
   ],
   "source": [
    "dict6={\"name\":{\"first\":\"Augstino\", \"Last\":\"Ndeti\"}, \"age\":22, \"Profession\":{\"Senior Data Scientist\",\"Business Developer\", \"Web Developer\"}} #used where one key has 2 values\n",
    "print(dict6)\n"
   ]
  },
  {
   "cell_type": "markdown",
   "metadata": {},
   "source": [
    "# Additing items in a dictionary"
   ]
  },
  {
   "cell_type": "code",
   "execution_count": 16,
   "metadata": {},
   "outputs": [
    {
     "name": "stdout",
     "output_type": "stream",
     "text": [
      "{0: 'Welcome'}\n"
     ]
    }
   ],
   "source": [
    "#Additing items in a dictionary\n",
    "dictA={}\n",
    "dictA[0]=\"Welcome\"\n",
    "print(dictA)\n"
   ]
  },
  {
   "cell_type": "code",
   "execution_count": 17,
   "metadata": {},
   "outputs": [
    {
     "name": "stdout",
     "output_type": "stream",
     "text": [
      "{0: 'Welcome', 1: 'How are you'}\n"
     ]
    }
   ],
   "source": [
    "dictA[1]=\"How are you\" #adding the second element at index 1\n",
    "print(dictA)\n"
   ]
  },
  {
   "cell_type": "code",
   "execution_count": 21,
   "metadata": {},
   "outputs": [
    {
     "name": "stdout",
     "output_type": "stream",
     "text": [
      "{0: 'Welcome', 1: ('How', 'are', 'you')}\n"
     ]
    }
   ],
   "source": [
    "dictA[1]=(\"How\", \"are\", \"you\") #adding an element an element as a tuple with three elements\n",
    "print(dictA)\n"
   ]
  },
  {
   "cell_type": "code",
   "execution_count": 23,
   "metadata": {},
   "outputs": [
    {
     "name": "stdout",
     "output_type": "stream",
     "text": [
      "{0: 'Welcome', 1: ('How', 'are', 'you'), 'name': {'first': 'Bytes', 'Last': 'Mulu'}}\n"
     ]
    }
   ],
   "source": [
    "# Adding elements which are strings\n",
    "dictA[\"name\"]={\"first\":\"Bytes\", \"Last\":\"Mulu\"}\n",
    "print(dictA)\n"
   ]
  }
 ],
 "metadata": {
  "kernelspec": {
   "display_name": "Python 3",
   "language": "python",
   "name": "python3"
  },
  "language_info": {
   "codemirror_mode": {
    "name": "ipython",
    "version": 3
   },
   "file_extension": ".py",
   "mimetype": "text/x-python",
   "name": "python",
   "nbconvert_exporter": "python",
   "pygments_lexer": "ipython3",
   "version": "3.12.2"
  }
 },
 "nbformat": 4,
 "nbformat_minor": 2
}
