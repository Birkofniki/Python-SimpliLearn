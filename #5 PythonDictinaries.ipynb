{
 "cells": [
  {
   "cell_type": "markdown",
   "metadata": {},
   "source": [
    "# Creating Dictionaries in Python"
   ]
  },
  {
   "cell_type": "code",
   "execution_count": 49,
   "metadata": {},
   "outputs": [
    {
     "name": "stdout",
     "output_type": "stream",
     "text": [
      "{}\n",
      "<class 'dict'>\n"
     ]
    }
   ],
   "source": [
    "dict1={}\n",
    "print(dict1)\n",
    "print(type(dict1))\n",
    "\n"
   ]
  },
  {
   "cell_type": "code",
   "execution_count": 50,
   "metadata": {},
   "outputs": [
    {
     "name": "stdout",
     "output_type": "stream",
     "text": [
      "{1: 'Welcome', 2: 'to', 3: 'Augastino', 4: 'Pyhton', 5: 'Tutorials'}\n"
     ]
    }
   ],
   "source": [
    "dict2={1:\"Welcome\", 2:\"to\", 3:\"Augastino\", 4:\"Pyhton\", 5:\"Tutorials\"} #The keys can be integers like this\n",
    "print(dict2)\n"
   ]
  },
  {
   "cell_type": "code",
   "execution_count": 51,
   "metadata": {},
   "outputs": [
    {
     "name": "stdout",
     "output_type": "stream",
     "text": [
      "{'name': 'Augastino', 'age': '26', 'Profession': 'Data Science', 'Level': 'Expert', 'Coding Language': 'Python'}\n"
     ]
    }
   ],
   "source": [
    "dict3={\"name\":\"Augastino\", \"age\":\"26\", \"Profession\":\"Data Science\", \"Level\":\"Expert\", \"Coding Language\":\"Python\"} #The keys can be strings like this\n",
    "print(dict3)\n"
   ]
  },
  {
   "cell_type": "markdown",
   "metadata": {},
   "source": [
    "# Creating Dictionaries Using the dict Method\n"
   ]
  },
  {
   "cell_type": "code",
   "execution_count": 52,
   "metadata": {},
   "outputs": [
    {
     "name": "stdout",
     "output_type": "stream",
     "text": [
      "{1: 'Welcome', 2: 'to', 3: 'Augastino', 4: 'Pyhton', 5: 'Tutorials'}\n"
     ]
    }
   ],
   "source": [
    "# using the dict method, make sure you don't name any variable as dict\n",
    "dict4=dict({1:\"Welcome\", 2:\"to\", 3:\"Augastino\", 4:\"Pyhton\", 5:\"Tutorials\"}) # Not commonly used, the above method is recommended\n",
    "print(dict4)\n"
   ]
  },
  {
   "cell_type": "code",
   "execution_count": 53,
   "metadata": {},
   "outputs": [
    {
     "name": "stdout",
     "output_type": "stream",
     "text": [
      "{1: 'Welcome', 2: 'to', 3: 'Augastino', 4: 'Pyhton', 5: 'Tutorials'}\n"
     ]
    }
   ],
   "source": [
    "#Method 3 of creating a variable\n",
    "dict5=dict([(1,\"Welcome\"), (2,\"to\"), (3,\"Augastino\"), (4,\"Pyhton\"), (5,\"Tutorials\")])\n",
    "print(dict5)\n"
   ]
  },
  {
   "cell_type": "markdown",
   "metadata": {},
   "source": [
    "# Nesting Dictionaries"
   ]
  },
  {
   "cell_type": "code",
   "execution_count": 54,
   "metadata": {},
   "outputs": [
    {
     "name": "stdout",
     "output_type": "stream",
     "text": [
      "{'name': {'first': 'Augstino', 'Last': 'Ndeti'}, 'age': 22, 'Profession': {'Web Developer', 'Business Developer', 'Senior Data Scientist'}}\n"
     ]
    }
   ],
   "source": [
    "dict6={\"name\":{\"first\":\"Augstino\", \"Last\":\"Ndeti\"}, \"age\":22, \"Profession\":{\"Senior Data Scientist\",\"Business Developer\", \"Web Developer\"}} #used where one key has 2 values\n",
    "print(dict6)\n"
   ]
  },
  {
   "cell_type": "markdown",
   "metadata": {},
   "source": [
    "# Additing items in a dictionary"
   ]
  },
  {
   "cell_type": "code",
   "execution_count": 55,
   "metadata": {},
   "outputs": [
    {
     "name": "stdout",
     "output_type": "stream",
     "text": [
      "{0: 'Welcome'}\n"
     ]
    }
   ],
   "source": [
    "#Additing items in a dictionary\n",
    "dictA={}\n",
    "dictA[0]=\"Welcome\"\n",
    "print(dictA)\n"
   ]
  },
  {
   "cell_type": "code",
   "execution_count": 56,
   "metadata": {},
   "outputs": [
    {
     "name": "stdout",
     "output_type": "stream",
     "text": [
      "{0: 'Welcome', 1: 'How are you'}\n"
     ]
    }
   ],
   "source": [
    "dictA[1]=\"How are you\" #adding the second element at index 1\n",
    "print(dictA)\n"
   ]
  },
  {
   "cell_type": "code",
   "execution_count": 57,
   "metadata": {},
   "outputs": [
    {
     "name": "stdout",
     "output_type": "stream",
     "text": [
      "{0: 'Welcome', 1: ('How', 'are', 'you')}\n"
     ]
    }
   ],
   "source": [
    "dictA[1]=(\"How\", \"are\", \"you\") #adding an element an element as a tuple with three elements\n",
    "print(dictA)\n"
   ]
  },
  {
   "cell_type": "code",
   "execution_count": 58,
   "metadata": {},
   "outputs": [
    {
     "name": "stdout",
     "output_type": "stream",
     "text": [
      "{0: 'Welcome', 1: ('How', 'are', 'you'), 'name': {'first': 'Bytes', 'Last': 'Mulu'}}\n"
     ]
    }
   ],
   "source": [
    "# Adding elements which are strings\n",
    "dictA[\"name\"]={\"first\":\"Bytes\", \"Last\":\"Mulu\"}\n",
    "print(dictA)\n"
   ]
  },
  {
   "cell_type": "markdown",
   "metadata": {},
   "source": [
    "# Accessing Elements in Dictionaries"
   ]
  },
  {
   "cell_type": "code",
   "execution_count": 59,
   "metadata": {},
   "outputs": [
    {
     "name": "stdout",
     "output_type": "stream",
     "text": [
      "{0: 'Welcome', 1: ('How', 'are', 'you'), 'name': {'first': 'Bytes', 'Last': 'Mulu'}}\n"
     ]
    }
   ],
   "source": [
    "print(dictA)\n"
   ]
  },
  {
   "cell_type": "code",
   "execution_count": 60,
   "metadata": {},
   "outputs": [
    {
     "name": "stdout",
     "output_type": "stream",
     "text": [
      "{'first': 'Bytes', 'Last': 'Mulu'}\n"
     ]
    }
   ],
   "source": [
    "print(dictA[\"name\"]) # accessing the name from the dictionary\n"
   ]
  },
  {
   "cell_type": "code",
   "execution_count": 61,
   "metadata": {},
   "outputs": [
    {
     "name": "stdout",
     "output_type": "stream",
     "text": [
      "Bytes\n"
     ]
    }
   ],
   "source": [
    "print(dictA[\"name\"][\"first\"]) # accessing the firstname from the dictionary\n"
   ]
  },
  {
   "cell_type": "markdown",
   "metadata": {},
   "source": [
    "# The get method, mostly used method to access items\n"
   ]
  },
  {
   "cell_type": "code",
   "execution_count": 62,
   "metadata": {},
   "outputs": [
    {
     "name": "stdout",
     "output_type": "stream",
     "text": [
      "{0: 'Welcome', 1: ('How', 'are', 'you'), 'name': {'first': 'Bytes', 'Last': 'Mulu'}}\n"
     ]
    }
   ],
   "source": [
    "print(dictA)\n"
   ]
  },
  {
   "cell_type": "code",
   "execution_count": 63,
   "metadata": {},
   "outputs": [
    {
     "name": "stdout",
     "output_type": "stream",
     "text": [
      "('How', 'are', 'you')\n"
     ]
    }
   ],
   "source": [
    "print(dictA.get(1))\n"
   ]
  },
  {
   "cell_type": "markdown",
   "metadata": {},
   "source": [
    "# Deleting elements in a dictionary\n"
   ]
  },
  {
   "cell_type": "code",
   "execution_count": 64,
   "metadata": {},
   "outputs": [
    {
     "name": "stdout",
     "output_type": "stream",
     "text": [
      "{0: 'Welcome', 1: ('How', 'are', 'you'), 'name': {'first': 'Bytes', 'Last': 'Mulu'}}\n"
     ]
    }
   ],
   "source": [
    "print(dictA)\n"
   ]
  },
  {
   "cell_type": "code",
   "execution_count": 65,
   "metadata": {},
   "outputs": [
    {
     "data": {
      "text/plain": [
       "'Welcome'"
      ]
     },
     "execution_count": 65,
     "metadata": {},
     "output_type": "execute_result"
    }
   ],
   "source": [
    "# The pop method\n",
    "dictA.pop(0) # deleting the first element, which is at index 0\n"
   ]
  },
  {
   "cell_type": "code",
   "execution_count": 67,
   "metadata": {},
   "outputs": [
    {
     "name": "stdout",
     "output_type": "stream",
     "text": [
      "{1: ('How', 'are', 'you'), 'name': {'first': 'Bytes', 'Last': 'Mulu'}}\n"
     ]
    }
   ],
   "source": [
    "print(dictA) # Now \"Welcome\" shouldn't exist\n"
   ]
  },
  {
   "cell_type": "code",
   "execution_count": 68,
   "metadata": {},
   "outputs": [
    {
     "data": {
      "text/plain": [
       "('name', {'first': 'Bytes', 'Last': 'Mulu'})"
      ]
     },
     "execution_count": 68,
     "metadata": {},
     "output_type": "execute_result"
    }
   ],
   "source": [
    "dictA.popitem() # Deletes the last item\n",
    "\n"
   ]
  },
  {
   "cell_type": "code",
   "execution_count": 69,
   "metadata": {},
   "outputs": [
    {
     "name": "stdout",
     "output_type": "stream",
     "text": [
      "{1: ('How', 'are', 'you')}\n"
     ]
    }
   ],
   "source": [
    "print(dictA) # Now the dictionary of name shouldin't exist \n"
   ]
  },
  {
   "cell_type": "markdown",
   "metadata": {},
   "source": [
    "# Some in-built funtctions for operating dictionaries"
   ]
  }
 ],
 "metadata": {
  "kernelspec": {
   "display_name": "Python 3",
   "language": "python",
   "name": "python3"
  },
  "language_info": {
   "codemirror_mode": {
    "name": "ipython",
    "version": 3
   },
   "file_extension": ".py",
   "mimetype": "text/x-python",
   "name": "python",
   "nbconvert_exporter": "python",
   "pygments_lexer": "ipython3",
   "version": "3.12.2"
  }
 },
 "nbformat": 4,
 "nbformat_minor": 2
}
