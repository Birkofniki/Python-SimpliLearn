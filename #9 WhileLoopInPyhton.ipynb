{
 "cells": [
  {
   "cell_type": "markdown",
   "metadata": {},
   "source": [
    "# Print a word 10 times"
   ]
  },
  {
   "cell_type": "code",
   "execution_count": 1,
   "metadata": {},
   "outputs": [
    {
     "name": "stdout",
     "output_type": "stream",
     "text": [
      "Augastino\n",
      "Augastino\n",
      "Augastino\n",
      "Augastino\n",
      "Augastino\n",
      "Augastino\n",
      "Augastino\n",
      "Augastino\n",
      "Augastino\n",
      "Augastino\n"
     ]
    }
   ],
   "source": [
    "# while loop is used to repeat a section of code an unknown number of times based on a specific condition\n",
    "# let's print Augastino 10 times\n",
    "i=1\n",
    "while i<=10:\n",
    "    print(\"Augastino\")\n",
    "    i=i+1\n"
   ]
  },
  {
   "cell_type": "code",
   "execution_count": 2,
   "metadata": {},
   "outputs": [
    {
     "name": "stdout",
     "output_type": "stream",
     "text": [
      "Augastino\n",
      "Augastino\n",
      "Augastino\n",
      "Augastino\n",
      "Augastino\n",
      "Augastino\n",
      "Augastino\n",
      "Augastino\n",
      "Augastino\n",
      "Augastino\n"
     ]
    }
   ],
   "source": [
    "# let's print Augastino 10 times, by decrementing\n",
    "i=10\n",
    "while i>=1:\n",
    "    print(\"Augastino\")\n",
    "    i=i-1\n"
   ]
  },
  {
   "cell_type": "code",
   "execution_count": 3,
   "metadata": {},
   "outputs": [
    {
     "name": "stdout",
     "output_type": "stream",
     "text": [
      "55\n"
     ]
    }
   ],
   "source": [
    "# Sum of first 10 natural numbers\n",
    "i=1\n",
    "sum=0\n",
    "while i<=10:\n",
    "    sum=sum+i\n",
    "    i=i+1\n",
    "print(sum)\n"
   ]
  },
  {
   "cell_type": "code",
   "execution_count": 4,
   "metadata": {},
   "outputs": [
    {
     "name": "stdout",
     "output_type": "stream",
     "text": [
      "30\n"
     ]
    }
   ],
   "source": [
    "# Sum of first even numbers btn 1-10\n",
    "i=1\n",
    "sum=0\n",
    "while i<=10:\n",
    "    if i%2==0: #checking if i is even no. within the while loop\n",
    "        sum=sum+i\n",
    "    i=i+1 # incrementing i everytime after check\n",
    "print(sum)\n"
   ]
  },
  {
   "cell_type": "code",
   "execution_count": 5,
   "metadata": {},
   "outputs": [
    {
     "ename": "ValueError",
     "evalue": "invalid literal for int() with base 10: ''",
     "output_type": "error",
     "traceback": [
      "\u001b[1;31m---------------------------------------------------------------------------\u001b[0m",
      "\u001b[1;31mValueError\u001b[0m                                Traceback (most recent call last)",
      "Cell \u001b[1;32mIn[5], line 2\u001b[0m\n\u001b[0;32m      1\u001b[0m \u001b[38;5;66;03m# reversing an integer from user input\u001b[39;00m\n\u001b[1;32m----> 2\u001b[0m n\u001b[38;5;241m=\u001b[39m \u001b[38;5;28;43mint\u001b[39;49m\u001b[43m(\u001b[49m\u001b[38;5;28;43minput\u001b[39;49m\u001b[43m(\u001b[49m\u001b[38;5;124;43m\"\u001b[39;49m\u001b[38;5;124;43mEnter any number\u001b[39;49m\u001b[38;5;124;43m\"\u001b[39;49m\u001b[43m)\u001b[49m\u001b[43m)\u001b[49m\n\u001b[0;32m      3\u001b[0m nr\u001b[38;5;241m=\u001b[39m\u001b[38;5;241m0\u001b[39m \u001b[38;5;66;03m# reversed n, for intance n=5678 shld become nr=8765\u001b[39;00m\n\u001b[0;32m      4\u001b[0m \u001b[38;5;28;01mwhile\u001b[39;00m n\u001b[38;5;241m%\u001b[39m\u001b[38;5;241m10\u001b[39m \u001b[38;5;241m!=\u001b[39m\u001b[38;5;241m0\u001b[39m:\n",
      "\u001b[1;31mValueError\u001b[0m: invalid literal for int() with base 10: ''"
     ]
    }
   ],
   "source": [
    "# reversing an integer from user input\n",
    "n= int(input(\"Enter any number\"))\n",
    "nr=0 # reversed n, for intance n=5678 shld become nr=8765\n",
    "while n%10 !=0:\n",
    "    c=n%10\n",
    "    nr= nr*10 +c\n",
    "    n= n//10 # returns a whole number\n",
    "print(nr)\n",
    "\n",
    "    \n",
    "\n"
   ]
  },
  {
   "cell_type": "code",
   "execution_count": null,
   "metadata": {},
   "outputs": [
    {
     "name": "stdout",
     "output_type": "stream",
     "text": [
      "4\n"
     ]
    }
   ],
   "source": [
    "# Calculating the length of a list without using the len function\n",
    "x=[1, 2, 3.4, \"Augastino\"]\n",
    "length=0\n",
    "i=0\n",
    "try:\n",
    "    while x[i] :\n",
    "        length=length+1\n",
    "        i=i+1\n",
    "except IndexError:\n",
    "    print(length)\n"
   ]
  },
  {
   "cell_type": "markdown",
   "metadata": {},
   "source": [
    "# Nested While Loop"
   ]
  },
  {
   "cell_type": "code",
   "execution_count": null,
   "metadata": {},
   "outputs": [
    {
     "name": "stdout",
     "output_type": "stream",
     "text": [
      "1\n",
      "22\n",
      "333\n",
      "4444\n",
      "55555\n",
      "666666\n",
      "7777777\n"
     ]
    }
   ],
   "source": [
    "# We try it to print this pattern\n",
    " # 1\n",
    " # 22\n",
    " # 333\n",
    " # 4444\n",
    " # 55555\n",
    "\n",
    "n= int(input(\"Enter a number\"))\n",
    "i=1\n",
    "while i<=n :\n",
    "    j=1\n",
    "    while j<=i:\n",
    "        print(i, end=\"\")\n",
    "        j+=1\n",
    "    i+=1\n",
    "    print()\n"
   ]
  },
  {
   "cell_type": "code",
   "execution_count": 6,
   "metadata": {},
   "outputs": [
    {
     "name": "stdout",
     "output_type": "stream",
     "text": [
      "3083\n",
      "0 digits were guessed right\n",
      "0 digits were guessed right\n",
      "1 digits were guessed right\n"
     ]
    }
   ],
   "source": [
    "# A game to generate a 4 digit number\n",
    "import random\n",
    "nump= random.randint(1000, 9999)\n",
    "print(nump) # shows the correct random number guess here\n",
    "n= int(input(\"Try to Enter a 4 digits number\"))\n",
    "\n",
    "while n!=10:\n",
    "    num=nump\n",
    "    cor=0 #cor for correct\n",
    "    while num%10:\n",
    "        numc=num%10\n",
    "        nc=n%10\n",
    "        num=num//10\n",
    "        n=n//10\n",
    "        if numc==nc:\n",
    "            cor=cor+1\n",
    "        if cor==4:\n",
    "            print(\"Congratulations you guessed it right\")\n",
    "            break\n",
    "        else:\n",
    "            print(\"%d digits were guessed right\" %cor)\n",
    "            \n",
    "            n= int(input(\"Try again by entering a 4 digits number\")) # after user guesses right, give them another trial\n",
    "else:\n",
    "    print(\"You quit the game\")\n",
    "\n",
    "        \n",
    "            \n",
    "            \n",
    "\n"
   ]
  }
 ],
 "metadata": {
  "kernelspec": {
   "display_name": "Python 3",
   "language": "python",
   "name": "python3"
  },
  "language_info": {
   "codemirror_mode": {
    "name": "ipython",
    "version": 3
   },
   "file_extension": ".py",
   "mimetype": "text/x-python",
   "name": "python",
   "nbconvert_exporter": "python",
   "pygments_lexer": "ipython3",
   "version": "3.12.2"
  }
 },
 "nbformat": 4,
 "nbformat_minor": 2
}
