{
 "cells": [
  {
   "cell_type": "markdown",
   "metadata": {},
   "source": [
    "# Print a word 10 times"
   ]
  },
  {
   "cell_type": "code",
   "execution_count": 1,
   "metadata": {},
   "outputs": [
    {
     "name": "stdout",
     "output_type": "stream",
     "text": [
      "Augastino\n",
      "Augastino\n",
      "Augastino\n",
      "Augastino\n",
      "Augastino\n",
      "Augastino\n",
      "Augastino\n",
      "Augastino\n",
      "Augastino\n",
      "Augastino\n"
     ]
    }
   ],
   "source": [
    "# while loop is used to repeat a section of code an unknown number of times based on a specific condition\n",
    "# let's print Augastino 10 times\n",
    "i=1\n",
    "while i<=10:\n",
    "    print(\"Augastino\")\n",
    "    i=i+1\n"
   ]
  },
  {
   "cell_type": "code",
   "execution_count": 2,
   "metadata": {},
   "outputs": [
    {
     "name": "stdout",
     "output_type": "stream",
     "text": [
      "Augastino\n",
      "Augastino\n",
      "Augastino\n",
      "Augastino\n",
      "Augastino\n",
      "Augastino\n",
      "Augastino\n",
      "Augastino\n",
      "Augastino\n",
      "Augastino\n"
     ]
    }
   ],
   "source": [
    "# let's print Augastino 10 times, by decrementing\n",
    "i=10\n",
    "while i>=1:\n",
    "    print(\"Augastino\")\n",
    "    i=i-1\n"
   ]
  },
  {
   "cell_type": "code",
   "execution_count": 3,
   "metadata": {},
   "outputs": [
    {
     "name": "stdout",
     "output_type": "stream",
     "text": [
      "55\n"
     ]
    }
   ],
   "source": [
    "# Sum of first 10 natural numbers\n",
    "i=1\n",
    "sum=0\n",
    "while i<=10:\n",
    "    sum=sum+i\n",
    "    i=i+1\n",
    "print(sum)\n"
   ]
  },
  {
   "cell_type": "code",
   "execution_count": 4,
   "metadata": {},
   "outputs": [
    {
     "name": "stdout",
     "output_type": "stream",
     "text": [
      "30\n"
     ]
    }
   ],
   "source": [
    "# Sum of first even numbers btn 1-10\n",
    "i=1\n",
    "sum=0\n",
    "while i<=10:\n",
    "    if i%2==0: #checking if i is even no. within the while loop\n",
    "        sum=sum+i\n",
    "    i=i+1\n",
    "print(sum)\n"
   ]
  },
  {
   "cell_type": "code",
   "execution_count": null,
   "metadata": {},
   "outputs": [],
   "source": []
  }
 ],
 "metadata": {
  "kernelspec": {
   "display_name": "Python 3",
   "language": "python",
   "name": "python3"
  },
  "language_info": {
   "codemirror_mode": {
    "name": "ipython",
    "version": 3
   },
   "file_extension": ".py",
   "mimetype": "text/x-python",
   "name": "python",
   "nbconvert_exporter": "python",
   "pygments_lexer": "ipython3",
   "version": "3.12.2"
  }
 },
 "nbformat": 4,
 "nbformat_minor": 2
}
