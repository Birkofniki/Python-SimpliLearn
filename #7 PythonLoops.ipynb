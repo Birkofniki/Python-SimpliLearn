{
 "cells": [
  {
   "cell_type": "markdown",
   "metadata": {},
   "source": [
    "# The while loop in Python"
   ]
  },
  {
   "cell_type": "code",
   "execution_count": 9,
   "metadata": {},
   "outputs": [
    {
     "name": "stdout",
     "output_type": "stream",
     "text": [
      "21 is a multiple of 7\n"
     ]
    }
   ],
   "source": [
    "# A demo for a program that prompts the user to enter a multiple of 7. It'll do this untill the user enters a correct value(multiple of 7)\n",
    "val=int(input(\"Enter a multiple of 7\")) #any input from the user is always a string, you have to convert it to an int value\n",
    "while val%7 !=0:\n",
    "    val= int(input(\"Try again, Enter a valid multiple of 7 again please\"))\n",
    "else:\n",
    "    print(\"%d is a multiple of 7\" %val) #when you want to print the value of a variable within a sentence,we use the placeholder %d-for integer, %s-for string, and then after quotes you enter the %variable name\n"
   ]
  },
  {
   "cell_type": "code",
   "execution_count": 10,
   "metadata": {},
   "outputs": [
    {
     "name": "stdout",
     "output_type": "stream",
     "text": [
      "64 is a multiple of 8\n"
     ]
    }
   ],
   "source": [
    "# A demo for a program that prompts the user to enter a multiple of 7. It'll do this untill the user enters a correct value(multiple of 7)\n",
    "val=int(input(\"Enter a multiple of 8\")) #any input from the user is always a string, you have to convert it to an int value\n",
    "while val%8 !=0:\n",
    "    val= int(input(\"Try again, please Enter a valid multiple of 8\"))\n",
    "else:\n",
    "    print(\"%d is a multiple of 8\" %val) #when you want to print the value of a variable within a sentence,we use the placeholder %d-for integer, %s-for string, and then after quotes you enter the %variable name\n"
   ]
  },
  {
   "cell_type": "markdown",
   "metadata": {},
   "source": [
    "# for loop in Python"
   ]
  },
  {
   "cell_type": "code",
   "execution_count": 11,
   "metadata": {},
   "outputs": [
    {
     "name": "stdout",
     "output_type": "stream",
     "text": [
      "1\n",
      "2\n",
      "3\n",
      "3\n",
      "4\n",
      "4\n",
      "5\n",
      "6\n",
      "7\n",
      "8\n",
      "8\n",
      "89\n",
      "Augastino\n"
     ]
    }
   ],
   "source": [
    "# mainly deals with lists, tuples, array, or a string\n",
    "x=[1,2,3,3,4,4,5,6,7,8,8,89,\"Augastino\"]\n",
    "for i in x:\n",
    "    print(i) # for i in x, every you run i assumes first value of x, then due to the for loop, it goes back and moves to the next index..etc\n",
    "    # Everytime i will old the next value\n"
   ]
  },
  {
   "cell_type": "code",
   "execution_count": 12,
   "metadata": {},
   "outputs": [
    {
     "name": "stdout",
     "output_type": "stream",
     "text": [
      "A\n",
      "u\n",
      "g\n",
      "a\n",
      "s\n",
      "t\n",
      "i\n",
      "n\n",
      "o\n"
     ]
    }
   ],
   "source": [
    "# for loop on a string\n",
    "y=\"Augastino\"\n",
    "for i in y:\n",
    "    print(i) # for i in x, everytime you run i assumes first value of x, then due to the for loop, it goes back and moves to the next index..etc\n",
    "    # Everytime i will old the next value\n"
   ]
  },
  {
   "cell_type": "markdown",
   "metadata": {},
   "source": [
    "# Nested Loops"
   ]
  },
  {
   "cell_type": "code",
   "execution_count": 13,
   "metadata": {},
   "outputs": [
    {
     "name": "stdout",
     "output_type": "stream",
     "text": [
      "1\n",
      "2\n",
      "3\n",
      "a\n",
      "b\n",
      "c\n"
     ]
    }
   ],
   "source": [
    "# one of the common applications is accessing elements of a matrix\n",
    "x=[[1,2,3], [\"a\",\"b\",\"c\"]]\n",
    "for i in x: #takes each value alone, so this wld print two indices\n",
    "    for j in i: # now j prints the values inside the matrices\n",
    "        print(j)\n",
    "    \n"
   ]
  },
  {
   "cell_type": "code",
   "execution_count": 14,
   "metadata": {},
   "outputs": [
    {
     "name": "stdout",
     "output_type": "stream",
     "text": [
      "123\n",
      "abc\n"
     ]
    }
   ],
   "source": [
    "# How to print each matrix on it's line\n",
    "# one of the common applications is accessing elements of a matrix\n",
    "x=[[1,2,3], [\"a\",\"b\",\"c\"]]\n",
    "for i in x: #takes each value alone, so this wld print two indices\n",
    "    for j in i: # now j prints the values inside the matrices\n",
    "        print(j, end=\"\")\n",
    "    print()\n"
   ]
  },
  {
   "cell_type": "markdown",
   "metadata": {},
   "source": [
    "# Loop Control Statements"
   ]
  },
  {
   "cell_type": "code",
   "execution_count": 15,
   "metadata": {},
   "outputs": [
    {
     "name": "stdout",
     "output_type": "stream",
     "text": [
      "H\n",
      "e\n",
      "y\n",
      " \n",
      "t\n",
      "h\n",
      "e\n",
      "r\n",
      "e\n"
     ]
    }
   ],
   "source": [
    "# They alter the regular flow of a loop\n",
    "# we want this program to print the first sentence of the string\n",
    "x=\"Hey there. how are you\"\n",
    "for i in x:\n",
    "    if i==\".\" :\n",
    "        break\n",
    "    print(i)\n"
   ]
  },
  {
   "cell_type": "markdown",
   "metadata": {},
   "source": [
    "# for loop with break statement"
   ]
  },
  {
   "cell_type": "code",
   "execution_count": 16,
   "metadata": {},
   "outputs": [
    {
     "name": "stdout",
     "output_type": "stream",
     "text": [
      "Hey there"
     ]
    }
   ],
   "source": [
    "# They alter the regular flow of a loop\n",
    "# we want this program to print the first sentence of the string\n",
    "x=\"Hey there. how are you\"\n",
    "for i in x:\n",
    "    if i==\".\" :\n",
    "        break\n",
    "    print(i, end=\"\") # end=\"\" is used to ensure we print on a single line, not going to new line each character\n"
   ]
  },
  {
   "cell_type": "markdown",
   "metadata": {},
   "source": [
    "# for loop with break, continue statement"
   ]
  },
  {
   "cell_type": "code",
   "execution_count": 17,
   "metadata": {},
   "outputs": [
    {
     "name": "stdout",
     "output_type": "stream",
     "text": [
      "1\n",
      "2\n",
      "3\n",
      "4\n",
      "4\n",
      "5\n",
      "6\n"
     ]
    }
   ],
   "source": [
    "# to iterate through a list\n",
    "# We want to only print values in the list that are less than 10\n",
    "# The logic down is if i is greater than 10, continue to the next element\n",
    "for i in [1,2,3,4,4,5,6,56,43]:\n",
    "    if i>10: \n",
    "        continue \n",
    "    print(i)\n"
   ]
  },
  {
   "cell_type": "code",
   "execution_count": null,
   "metadata": {},
   "outputs": [],
   "source": []
  }
 ],
 "metadata": {
  "kernelspec": {
   "display_name": "Python 3",
   "language": "python",
   "name": "python3"
  },
  "language_info": {
   "codemirror_mode": {
    "name": "ipython",
    "version": 3
   },
   "file_extension": ".py",
   "mimetype": "text/x-python",
   "name": "python",
   "nbconvert_exporter": "python",
   "pygments_lexer": "ipython3",
   "version": "3.12.2"
  }
 },
 "nbformat": 4,
 "nbformat_minor": 2
}
