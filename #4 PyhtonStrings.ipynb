{
 "cells": [
  {
   "cell_type": "markdown",
   "metadata": {},
   "source": [
    "# Strings in Python"
   ]
  },
  {
   "cell_type": "code",
   "execution_count": 1,
   "metadata": {},
   "outputs": [
    {
     "name": "stdout",
     "output_type": "stream",
     "text": [
      "Simplilearn\n"
     ]
    }
   ],
   "source": [
    "stg=\"Simplilearn\" # a string variable\n",
    "print(stg)\n"
   ]
  },
  {
   "cell_type": "code",
   "execution_count": 2,
   "metadata": {},
   "outputs": [
    {
     "name": "stdout",
     "output_type": "stream",
     "text": [
      "Augastine's Birthday\n"
     ]
    }
   ],
   "source": [
    "stg=\"Augastine's Birthday\" # If your sting has within it single quotes, you enclose within double quotes.\n",
    "print(stg)\n"
   ]
  },
  {
   "cell_type": "code",
   "execution_count": 3,
   "metadata": {},
   "outputs": [
    {
     "name": "stdout",
     "output_type": "stream",
     "text": [
      "Augastine said \"it's my birthday today\" \n"
     ]
    }
   ],
   "source": [
    "stg=\"Augastine said \\\"it's my birthday today\\\" \" # The back slash is used to escape the character immediately after it. The part that follows immediately after back slash is considered as part of the string.\n",
    "print(stg)\n"
   ]
  },
  {
   "cell_type": "code",
   "execution_count": 4,
   "metadata": {},
   "outputs": [
    {
     "name": "stdout",
     "output_type": "stream",
     "text": [
      "hey there!\n",
      "Welcoe to my portfolio.\n"
     ]
    }
   ],
   "source": [
    "# A string with multiple lines\n",
    "# we start and end then with three quotes\n",
    "str2=\"\"\"hey there!\n",
    "Welcoe to my portfolio.\"\"\"\n",
    "\n",
    "print(str2)\n"
   ]
  },
  {
   "cell_type": "code",
   "execution_count": 5,
   "metadata": {},
   "outputs": [
    {
     "name": "stdout",
     "output_type": "stream",
     "text": [
      "34\n"
     ]
    }
   ],
   "source": [
    "# knowing the length of a string\n",
    "# Note that a space is counted as a character in this function\n",
    "print(len(str2))\n"
   ]
  },
  {
   "cell_type": "code",
   "execution_count": 6,
   "metadata": {},
   "outputs": [
    {
     "name": "stdout",
     "output_type": "stream",
     "text": [
      "Augastine\n"
     ]
    }
   ],
   "source": [
    "stg3=\"Augastine\"\n",
    "print(stg3)\n"
   ]
  },
  {
   "cell_type": "code",
   "execution_count": 7,
   "metadata": {},
   "outputs": [
    {
     "name": "stdout",
     "output_type": "stream",
     "text": [
      "t\n"
     ]
    }
   ],
   "source": [
    "# To extract each character, this is what we do;\n",
    "print(stg3[5])\n"
   ]
  },
  {
   "cell_type": "code",
   "execution_count": 8,
   "metadata": {},
   "outputs": [
    {
     "name": "stdout",
     "output_type": "stream",
     "text": [
      "A\n",
      "u\n",
      "g\n",
      "a\n",
      "s\n",
      "t\n",
      "i\n",
      "n\n",
      "e\n"
     ]
    }
   ],
   "source": [
    "# Extracting each character in a new line using for loop\n",
    "for i in stg3:\n",
    "    print(i)\n"
   ]
  },
  {
   "cell_type": "code",
   "execution_count": 9,
   "metadata": {},
   "outputs": [
    {
     "name": "stdout",
     "output_type": "stream",
     "text": [
      "Augastine"
     ]
    }
   ],
   "source": [
    "# To print them on the same line, we add the end\"\" attribute, as shown below:\n",
    "for i in stg3:\n",
    "    print(i,end=\"\")\n"
   ]
  },
  {
   "cell_type": "markdown",
   "metadata": {},
   "source": [
    "# Slicing strings\n"
   ]
  },
  {
   "cell_type": "code",
   "execution_count": 10,
   "metadata": {},
   "outputs": [
    {
     "name": "stdout",
     "output_type": "stream",
     "text": [
      "Augas\n"
     ]
    }
   ],
   "source": [
    "# this entails printing some portion of the characters\n",
    "print(stg3[0:5])\n"
   ]
  },
  {
   "cell_type": "code",
   "execution_count": 11,
   "metadata": {},
   "outputs": [
    {
     "name": "stdout",
     "output_type": "stream",
     "text": [
      "tine\n"
     ]
    }
   ],
   "source": [
    "# printing from 5th index to the end\n",
    "print(stg3[5:])\n"
   ]
  },
  {
   "cell_type": "code",
   "execution_count": 12,
   "metadata": {},
   "outputs": [
    {
     "name": "stdout",
     "output_type": "stream",
     "text": [
      "gas\n"
     ]
    }
   ],
   "source": [
    "# To print some part\n",
    "print(stg3[2:5]) # Remember in this method 'the last element is always excluded\n"
   ]
  },
  {
   "cell_type": "markdown",
   "metadata": {},
   "source": [
    "# In-built Methods to work with strings in Python"
   ]
  },
  {
   "cell_type": "code",
   "execution_count": 13,
   "metadata": {},
   "outputs": [
    {
     "name": "stdout",
     "output_type": "stream",
     "text": [
      "WELCOME TO MY PORTFOLIO\n"
     ]
    }
   ],
   "source": [
    "str4=\"Welcome to my portfolio\"\n",
    "print(str4.upper()) #prints the string in uppercase\n"
   ]
  },
  {
   "cell_type": "code",
   "execution_count": 14,
   "metadata": {},
   "outputs": [
    {
     "name": "stdout",
     "output_type": "stream",
     "text": [
      "welcome to my portfolio\n"
     ]
    }
   ],
   "source": [
    "print(str4.lower()) # makes string lowercase\n"
   ]
  },
  {
   "cell_type": "code",
   "execution_count": 20,
   "metadata": {},
   "outputs": [
    {
     "name": "stdout",
     "output_type": "stream",
     "text": [
      "2\n"
     ]
    }
   ],
   "source": [
    "# find the location of an element by index\n",
    "str4=\"Welcome to my portfolio\"\n",
    "print(str4.find(\"l\"))\n"
   ]
  }
 ],
 "metadata": {
  "kernelspec": {
   "display_name": "Python 3",
   "language": "python",
   "name": "python3"
  },
  "language_info": {
   "codemirror_mode": {
    "name": "ipython",
    "version": 3
   },
   "file_extension": ".py",
   "mimetype": "text/x-python",
   "name": "python",
   "nbconvert_exporter": "python",
   "pygments_lexer": "ipython3",
   "version": "3.12.2"
  }
 },
 "nbformat": 4,
 "nbformat_minor": 2
}
