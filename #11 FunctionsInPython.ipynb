{
 "cells": [
  {
   "cell_type": "markdown",
   "metadata": {},
   "source": [
    "# A function is a set of code that performs some task"
   ]
  },
  {
   "cell_type": "code",
   "execution_count": 1,
   "metadata": {},
   "outputs": [
    {
     "name": "stdout",
     "output_type": "stream",
     "text": [
      "Good Morning\n"
     ]
    }
   ],
   "source": [
    "# How to create a function\n",
    "def welcome():\n",
    "    print(\"Good Morning\")\n",
    "welcome() # this is calling a function\n"
   ]
  },
  {
   "cell_type": "code",
   "execution_count": 3,
   "metadata": {},
   "outputs": [
    {
     "name": "stdout",
     "output_type": "stream",
     "text": [
      "The sum is 46\n",
      "The sum is 68\n"
     ]
    }
   ],
   "source": [
    "def add(a,b):\n",
    "    total=a+b\n",
    "    print(\"The sum is\", total)\n",
    "add(23, 23)\n",
    "\n",
    "x= int(input(\"enter the first number\"))\n",
    "y= int(input(\"enter the second number\"))\n",
    "add(x,y)\n",
    "\n"
   ]
  },
  {
   "cell_type": "code",
   "execution_count": 4,
   "metadata": {},
   "outputs": [
    {
     "name": "stdout",
     "output_type": "stream",
     "text": [
      "a:23 b:23\n",
      "The sum is 46\n",
      "a:45 b:3\n",
      "The sum is 48\n"
     ]
    }
   ],
   "source": [
    "def add(a,b):\n",
    "    total=a+b\n",
    "    print(\"a:%d b:%d\" %(a,b))\n",
    "    print(\"The sum is\", total)\n",
    "add(23, 23)\n",
    "\n",
    "x= 45\n",
    "y= 3\n",
    "add(x,y)\n"
   ]
  },
  {
   "cell_type": "markdown",
   "metadata": {},
   "source": [
    "# KeyWord Arguements"
   ]
  },
  {
   "cell_type": "code",
   "execution_count": 8,
   "metadata": {},
   "outputs": [
    {
     "name": "stdout",
     "output_type": "stream",
     "text": [
      "a:23 b:3\n",
      "The sum is 26\n",
      "a:3 b:45\n",
      "The sum is 48\n"
     ]
    }
   ],
   "source": [
    "# used to be sure of where we want the elements to go\n",
    "def add(b, a):\n",
    "    total=a+b\n",
    "    print(\"a:%d b:%d\" %(a,b))\n",
    "    print(\"The sum is\", total)\n",
    "add(a=23, b=3)\n",
    "\n",
    "x=a= 45\n",
    "y=b= 3\n",
    "add(x,y)\n"
   ]
  },
  {
   "cell_type": "code",
   "execution_count": 9,
   "metadata": {},
   "outputs": [
    {
     "name": "stdout",
     "output_type": "stream",
     "text": [
      "a:0 b:23\n",
      "The sum is 23\n"
     ]
    }
   ],
   "source": [
    "# if values not passed, always make a default value, like a zero for instance\n",
    "def add(b=0, a=0):\n",
    "    total=a+b\n",
    "    print(\"a:%d b:%d\" %(a,b))\n",
    "    print(\"The sum is\", total)\n",
    "add(23)\n"
   ]
  },
  {
   "cell_type": "code",
   "execution_count": 10,
   "metadata": {},
   "outputs": [
    {
     "name": "stdout",
     "output_type": "stream",
     "text": [
      "The sum is 200\n"
     ]
    }
   ],
   "source": [
    "# Finding sum of a List\n",
    "def add( *a):\n",
    "    total=0\n",
    "    for i in a:\n",
    "        total=total+i\n",
    "        \n",
    "    print(\"The sum is\", total)\n",
    "add(20,30,40,50,60)\n"
   ]
  },
  {
   "cell_type": "code",
   "execution_count": 17,
   "metadata": {},
   "outputs": [
    {
     "name": "stdout",
     "output_type": "stream",
     "text": [
      "140709168959288 140709168958104\n",
      "140709168959288 140709168958104\n",
      "140709168957912 140709168957976\n",
      "The sum is 6\n",
      "The sum is 53\n"
     ]
    }
   ],
   "source": [
    "# Other modifications\n",
    "def add(a,b):\n",
    "    print(id(a), id(b))\n",
    "    a=2\n",
    "    b=4\n",
    "    print(id(a), id(b))\n",
    "    total=a+b\n",
    "    \n",
    "    print(\"The sum is\", total)\n",
    "\n",
    "x=45\n",
    "y=8\n",
    "print(id(x), id(y))\n",
    "add(x,y)\n",
    "print(\"The sum is\", x+y)\n"
   ]
  },
  {
   "cell_type": "code",
   "execution_count": 22,
   "metadata": {},
   "outputs": [
    {
     "name": "stdout",
     "output_type": "stream",
     "text": [
      "[0, 1, 2]\n",
      "[0, 1, 9]\n"
     ]
    }
   ],
   "source": [
    "# parsing list into a function\n",
    "def changeFunc(lst):\n",
    "    lst[2]=9 # this changes the value in the second position/index to 9\n",
    "\n",
    "lst=[0,1,2]\n",
    "print(lst)\n",
    "changeFunc(lst)\n",
    "print(lst)\n",
    "    \n"
   ]
  },
  {
   "cell_type": "code",
   "execution_count": null,
   "metadata": {},
   "outputs": [],
   "source": [
    "# We are creting new objects after change\n"
   ]
  },
  {
   "cell_type": "code",
   "execution_count": 23,
   "metadata": {},
   "outputs": [
    {
     "name": "stdout",
     "output_type": "stream",
     "text": [
      "The sum is 14\n"
     ]
    }
   ],
   "source": [
    "# Other modifications, we don't want total to be printed within the add function\n",
    "def addB(a,b):\n",
    "    total=a+b\n",
    "    return total\n",
    "result=addB(6,8)\n",
    "print(\"The sum is\", result)\n"
   ]
  }
 ],
 "metadata": {
  "kernelspec": {
   "display_name": "Python 3",
   "language": "python",
   "name": "python3"
  },
  "language_info": {
   "codemirror_mode": {
    "name": "ipython",
    "version": 3
   },
   "file_extension": ".py",
   "mimetype": "text/x-python",
   "name": "python",
   "nbconvert_exporter": "python",
   "pygments_lexer": "ipython3",
   "version": "3.12.2"
  }
 },
 "nbformat": 4,
 "nbformat_minor": 2
}
