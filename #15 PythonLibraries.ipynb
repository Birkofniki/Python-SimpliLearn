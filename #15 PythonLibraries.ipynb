{
 "cells": [
  {
   "cell_type": "code",
   "execution_count": null,
   "metadata": {},
   "outputs": [],
   "source": [
    "### \n",
    "\"\"\"\n",
    "Top 5 pyhton libraries for data science \n",
    "1. Tensorflow\n",
    "2. Numpy\n",
    "3. Scipy\n",
    "4. PANDAS \n",
    "5.\n",
    "\"\"\"\n",
    "###\n"
   ]
  },
  {
   "cell_type": "markdown",
   "metadata": {},
   "source": [
    "# NUMPY Example"
   ]
  },
  {
   "cell_type": "code",
   "execution_count": 1,
   "metadata": {},
   "outputs": [
    {
     "name": "stdout",
     "output_type": "stream",
     "text": [
      "<class 'numpy.ndarray'>\n"
     ]
    }
   ],
   "source": [
    "import numpy as np\n",
    "a=np.array([1,3,4,5,7])\n",
    "print(type(a))\n"
   ]
  },
  {
   "cell_type": "code",
   "execution_count": 3,
   "metadata": {},
   "outputs": [
    {
     "name": "stdout",
     "output_type": "stream",
     "text": [
      "(5,)\n"
     ]
    }
   ],
   "source": [
    "import numpy as np\n",
    "a=np.array([1,3,4,5,7])\n",
    "print(a.shape)\n"
   ]
  },
  {
   "cell_type": "code",
   "execution_count": 4,
   "metadata": {},
   "outputs": [
    {
     "data": {
      "text/plain": [
       "array([ 0,  1,  2,  3,  4,  5,  6,  7,  8,  9, 10, 11])"
      ]
     },
     "execution_count": 4,
     "metadata": {},
     "output_type": "execute_result"
    }
   ],
   "source": [
    "# make arandom array and re-arrange it# \n",
    "import numpy as np\n",
    "b=np.arange(12)\n",
    "b\n"
   ]
  },
  {
   "cell_type": "code",
   "execution_count": 6,
   "metadata": {},
   "outputs": [
    {
     "data": {
      "text/plain": [
       "array([[ 0,  1,  2,  3],\n",
       "       [ 4,  5,  6,  7],\n",
       "       [ 8,  9, 10, 11]])"
      ]
     },
     "execution_count": 6,
     "metadata": {},
     "output_type": "execute_result"
    }
   ],
   "source": [
    "# reshape the array above\n",
    "import numpy as np\n",
    "b=np.arange(12)\n",
    "b\n",
    "b.reshape(3,4)\n"
   ]
  },
  {
   "cell_type": "code",
   "execution_count": 7,
   "metadata": {},
   "outputs": [
    {
     "data": {
      "text/plain": [
       "array([[ 0,  1,  2,  3],\n",
       "       [ 4,  5,  6,  7],\n",
       "       [ 8,  9, 10, 11]])"
      ]
     },
     "execution_count": 7,
     "metadata": {},
     "output_type": "execute_result"
    }
   ],
   "source": [
    "# Alternatively\n",
    "# reshape the array above\n",
    "import numpy as np\n",
    "b=np.arange(12).reshape(3,4)\n",
    "b\n"
   ]
  },
  {
   "cell_type": "markdown",
   "metadata": {},
   "source": [
    "# SCIPY EXAMPLE"
   ]
  },
  {
   "cell_type": "code",
   "execution_count": 9,
   "metadata": {},
   "outputs": [
    {
     "name": "stdout",
     "output_type": "stream",
     "text": [
      "299792458.0\n",
      "6.62607015e-34\n",
      "6.02214076e+23\n"
     ]
    }
   ],
   "source": [
    "from scipy import constants # scipy has a collection of constants stored into it, just check on documentation\n",
    "print(constants.c) #Speed of light\n",
    "print(constants.h) #Plank's constant\n",
    "print(constants.N_A) #Avogadros number\n",
    "\n"
   ]
  },
  {
   "cell_type": "markdown",
   "metadata": {},
   "source": [
    "# PANDAS EXAMPLE"
   ]
  },
  {
   "cell_type": "code",
   "execution_count": 10,
   "metadata": {},
   "outputs": [
    {
     "data": {
      "text/html": [
       "<div>\n",
       "<style scoped>\n",
       "    .dataframe tbody tr th:only-of-type {\n",
       "        vertical-align: middle;\n",
       "    }\n",
       "\n",
       "    .dataframe tbody tr th {\n",
       "        vertical-align: top;\n",
       "    }\n",
       "\n",
       "    .dataframe thead th {\n",
       "        text-align: right;\n",
       "    }\n",
       "</style>\n",
       "<table border=\"1\" class=\"dataframe\">\n",
       "  <thead>\n",
       "    <tr style=\"text-align: right;\">\n",
       "      <th></th>\n",
       "      <th>A</th>\n",
       "      <th>B</th>\n",
       "      <th>C</th>\n",
       "      <th>D</th>\n",
       "    </tr>\n",
       "  </thead>\n",
       "  <tbody>\n",
       "    <tr>\n",
       "      <th>0</th>\n",
       "      <td>-0.346174</td>\n",
       "      <td>-0.634030</td>\n",
       "      <td>0.791975</td>\n",
       "      <td>2.528151</td>\n",
       "    </tr>\n",
       "    <tr>\n",
       "      <th>1</th>\n",
       "      <td>-0.418479</td>\n",
       "      <td>0.596371</td>\n",
       "      <td>-0.782786</td>\n",
       "      <td>0.138608</td>\n",
       "    </tr>\n",
       "    <tr>\n",
       "      <th>2</th>\n",
       "      <td>-1.688850</td>\n",
       "      <td>0.193260</td>\n",
       "      <td>0.574274</td>\n",
       "      <td>1.221488</td>\n",
       "    </tr>\n",
       "    <tr>\n",
       "      <th>3</th>\n",
       "      <td>-0.166296</td>\n",
       "      <td>-0.684192</td>\n",
       "      <td>0.813680</td>\n",
       "      <td>1.994365</td>\n",
       "    </tr>\n",
       "    <tr>\n",
       "      <th>4</th>\n",
       "      <td>0.683935</td>\n",
       "      <td>0.988460</td>\n",
       "      <td>0.797581</td>\n",
       "      <td>-0.618957</td>\n",
       "    </tr>\n",
       "    <tr>\n",
       "      <th>5</th>\n",
       "      <td>0.666992</td>\n",
       "      <td>0.030069</td>\n",
       "      <td>-1.586024</td>\n",
       "      <td>-0.138783</td>\n",
       "    </tr>\n",
       "  </tbody>\n",
       "</table>\n",
       "</div>"
      ],
      "text/plain": [
       "          A         B         C         D\n",
       "0 -0.346174 -0.634030  0.791975  2.528151\n",
       "1 -0.418479  0.596371 -0.782786  0.138608\n",
       "2 -1.688850  0.193260  0.574274  1.221488\n",
       "3 -0.166296 -0.684192  0.813680  1.994365\n",
       "4  0.683935  0.988460  0.797581 -0.618957\n",
       "5  0.666992  0.030069 -1.586024 -0.138783"
      ]
     },
     "execution_count": 10,
     "metadata": {},
     "output_type": "execute_result"
    }
   ],
   "source": [
    "# creating a dataframe, like a csv\n",
    "import pandas as pd\n",
    "df= pd.DataFrame(np.random.randn(6,4), index=list(range(6)), columns=list(\"ABCD\"))\n",
    "df\n"
   ]
  },
  {
   "cell_type": "code",
   "execution_count": 12,
   "metadata": {},
   "outputs": [
    {
     "data": {
      "text/html": [
       "<div>\n",
       "<style scoped>\n",
       "    .dataframe tbody tr th:only-of-type {\n",
       "        vertical-align: middle;\n",
       "    }\n",
       "\n",
       "    .dataframe tbody tr th {\n",
       "        vertical-align: top;\n",
       "    }\n",
       "\n",
       "    .dataframe thead th {\n",
       "        text-align: right;\n",
       "    }\n",
       "</style>\n",
       "<table border=\"1\" class=\"dataframe\">\n",
       "  <thead>\n",
       "    <tr style=\"text-align: right;\">\n",
       "      <th></th>\n",
       "      <th>A</th>\n",
       "      <th>B</th>\n",
       "      <th>C</th>\n",
       "      <th>D</th>\n",
       "    </tr>\n",
       "  </thead>\n",
       "  <tbody>\n",
       "    <tr>\n",
       "      <th>count</th>\n",
       "      <td>6.000000</td>\n",
       "      <td>6.000000</td>\n",
       "      <td>6.000000</td>\n",
       "      <td>6.000000</td>\n",
       "    </tr>\n",
       "    <tr>\n",
       "      <th>mean</th>\n",
       "      <td>0.335987</td>\n",
       "      <td>0.730519</td>\n",
       "      <td>-0.321619</td>\n",
       "      <td>0.549101</td>\n",
       "    </tr>\n",
       "    <tr>\n",
       "      <th>std</th>\n",
       "      <td>1.210251</td>\n",
       "      <td>0.672035</td>\n",
       "      <td>0.855550</td>\n",
       "      <td>1.101769</td>\n",
       "    </tr>\n",
       "    <tr>\n",
       "      <th>min</th>\n",
       "      <td>-1.300655</td>\n",
       "      <td>-0.351092</td>\n",
       "      <td>-1.685854</td>\n",
       "      <td>-1.291080</td>\n",
       "    </tr>\n",
       "    <tr>\n",
       "      <th>25%</th>\n",
       "      <td>-0.544578</td>\n",
       "      <td>0.361913</td>\n",
       "      <td>-0.696085</td>\n",
       "      <td>0.104372</td>\n",
       "    </tr>\n",
       "    <tr>\n",
       "      <th>50%</th>\n",
       "      <td>0.491361</td>\n",
       "      <td>0.999552</td>\n",
       "      <td>-0.230783</td>\n",
       "      <td>0.954746</td>\n",
       "    </tr>\n",
       "    <tr>\n",
       "      <th>75%</th>\n",
       "      <td>1.336608</td>\n",
       "      <td>1.138405</td>\n",
       "      <td>0.272352</td>\n",
       "      <td>1.028161</td>\n",
       "    </tr>\n",
       "    <tr>\n",
       "      <th>max</th>\n",
       "      <td>1.605391</td>\n",
       "      <td>1.401046</td>\n",
       "      <td>0.628830</td>\n",
       "      <td>1.802649</td>\n",
       "    </tr>\n",
       "  </tbody>\n",
       "</table>\n",
       "</div>"
      ],
      "text/plain": [
       "              A         B         C         D\n",
       "count  6.000000  6.000000  6.000000  6.000000\n",
       "mean   0.335987  0.730519 -0.321619  0.549101\n",
       "std    1.210251  0.672035  0.855550  1.101769\n",
       "min   -1.300655 -0.351092 -1.685854 -1.291080\n",
       "25%   -0.544578  0.361913 -0.696085  0.104372\n",
       "50%    0.491361  0.999552 -0.230783  0.954746\n",
       "75%    1.336608  1.138405  0.272352  1.028161\n",
       "max    1.605391  1.401046  0.628830  1.802649"
      ]
     },
     "execution_count": 12,
     "metadata": {},
     "output_type": "execute_result"
    }
   ],
   "source": [
    "# Describing the dataframe above\n",
    "df.describe()\n"
   ]
  },
  {
   "cell_type": "markdown",
   "metadata": {},
   "source": [
    "# MATPLOTLIB EXAMPLE"
   ]
  },
  {
   "cell_type": "code",
   "execution_count": 13,
   "metadata": {},
   "outputs": [
    {
     "data": {
      "image/png": "[encoded data removed]",
      "text/plain": [
       "<Figure size 640x480 with 1 Axes>"
      ]
     },
     "metadata": {},
     "output_type": "display_data"
    }
   ],
   "source": [
    "import numpy as np\n",
    "import matplotlib.pyplot as plt\n",
    "%matplotlib inline\n",
    "\n",
    "\n",
    "np.random.seed(10)\n",
    "\n",
    "N= 30\n",
    "x= np.random.rand(N) # will make us generate 30 random numbers\n",
    "y= np.random.rand(N)\n",
    "colors= np.random.rand(N)\n",
    "\n",
    "area= (30*np.random.rand(N))**2 # will multiply to the power of 2 to give area of the plot(squared)\n",
    "\n",
    "plt.scatter(x,y, s=area, c=colors, alpha=0.4)\n",
    "plt.show()\n"
   ]
  },
  {
   "cell_type": "code",
   "execution_count": 17,
   "metadata": {},
   "outputs": [
    {
     "data": {
      "image/png": "[encoded data removed]",
      "text/plain": [
       "<Figure size 640x480 with 1 Axes>"
      ]
     },
     "metadata": {},
     "output_type": "display_data"
    }
   ],
   "source": [
    "# Creating an histogram using matplotlib\n",
    "from matplotlib import style\n",
    "style.use(\"ggplot\")\n",
    "\n",
    "x= [2,4,6]\n",
    "y= [12,14,16]\n",
    "\n",
    "x2= [3,3,4]\n",
    "y2= [7,14,15]\n",
    "\n",
    "# Assigning bars, colors and alignment to the plot\n",
    "plt.bar(x,y, color=\"r\", align=\"center\")\n",
    "plt.bar(x2,y2, color=\"b\", align=\"center\")\n",
    "\n",
    "plt.title(\"info\")\n",
    "plt.ylabel(\"Y axis\")\n",
    "plt.xlabel(\"X axis\")\n",
    "\n",
    "plt.show()\n"
   ]
  }
 ],
 "metadata": {
  "kernelspec": {
   "display_name": "Python 3",
   "language": "python",
   "name": "python3"
  },
  "language_info": {
   "codemirror_mode": {
    "name": "ipython",
    "version": 3
   },
   "file_extension": ".py",
   "mimetype": "text/x-python",
   "name": "python",
   "nbconvert_exporter": "python",
   "pygments_lexer": "ipython3",
   "version": "3.12.2"
  }
 },
 "nbformat": 4,
 "nbformat_minor": 2
}
