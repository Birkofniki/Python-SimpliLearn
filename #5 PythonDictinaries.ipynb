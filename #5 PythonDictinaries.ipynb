{
 "cells": [
  {
   "cell_type": "markdown",
   "metadata": {},
   "source": [
    "# Creating Dictionaries in Python"
   ]
  },
  {
   "cell_type": "code",
   "execution_count": 169,
   "metadata": {},
   "outputs": [
    {
     "name": "stdout",
     "output_type": "stream",
     "text": [
      "{}\n",
      "<class 'dict'>\n"
     ]
    }
   ],
   "source": [
    "dict1={}\n",
    "print(dict1)\n",
    "print(type(dict1))\n",
    "\n"
   ]
  },
  {
   "cell_type": "code",
   "execution_count": 170,
   "metadata": {},
   "outputs": [
    {
     "name": "stdout",
     "output_type": "stream",
     "text": [
      "{1: 'Welcome', 2: 'to', 3: 'Augastino', 4: 'Pyhton', 5: 'Tutorials'}\n"
     ]
    }
   ],
   "source": [
    "dict2={1:\"Welcome\", 2:\"to\", 3:\"Augastino\", 4:\"Pyhton\", 5:\"Tutorials\"} #The keys can be integers like this\n",
    "print(dict2)\n"
   ]
  },
  {
   "cell_type": "code",
   "execution_count": 171,
   "metadata": {},
   "outputs": [
    {
     "name": "stdout",
     "output_type": "stream",
     "text": [
      "{'name': 'Augastino', 'age': '26', 'Profession': 'Data Science', 'Level': 'Expert', 'Coding Language': 'Python'}\n"
     ]
    }
   ],
   "source": [
    "dict3={\"name\":\"Augastino\", \"age\":\"26\", \"Profession\":\"Data Science\", \"Level\":\"Expert\", \"Coding Language\":\"Python\"} #The keys can be strings like this\n",
    "print(dict3)\n"
   ]
  },
  {
   "cell_type": "markdown",
   "metadata": {},
   "source": [
    "# Creating Dictionaries Using the dict Method\n"
   ]
  },
  {
   "cell_type": "code",
   "execution_count": 172,
   "metadata": {},
   "outputs": [
    {
     "name": "stdout",
     "output_type": "stream",
     "text": [
      "{1: 'Welcome', 2: 'to', 3: 'Augastino', 4: 'Pyhton', 5: 'Tutorials'}\n"
     ]
    }
   ],
   "source": [
    "# using the dict method, make sure you don't name any variable as dict\n",
    "dict4=dict({1:\"Welcome\", 2:\"to\", 3:\"Augastino\", 4:\"Pyhton\", 5:\"Tutorials\"}) # Not commonly used, the above method is recommended\n",
    "print(dict4)\n"
   ]
  },
  {
   "cell_type": "code",
   "execution_count": 173,
   "metadata": {},
   "outputs": [
    {
     "name": "stdout",
     "output_type": "stream",
     "text": [
      "{1: 'Welcome', 2: 'to', 3: 'Augastino', 4: 'Pyhton', 5: 'Tutorials'}\n"
     ]
    }
   ],
   "source": [
    "#Method 3 of creating a variable\n",
    "dict5=dict([(1,\"Welcome\"), (2,\"to\"), (3,\"Augastino\"), (4,\"Pyhton\"), (5,\"Tutorials\")])\n",
    "print(dict5)\n"
   ]
  },
  {
   "cell_type": "markdown",
   "metadata": {},
   "source": [
    "# Nesting Dictionaries"
   ]
  },
  {
   "cell_type": "code",
   "execution_count": 174,
   "metadata": {},
   "outputs": [
    {
     "name": "stdout",
     "output_type": "stream",
     "text": [
      "{'name': {'first': 'Augstino', 'Last': 'Ndeti'}, 'age': 22, 'Profession': {'Web Developer', 'Business Developer', 'Senior Data Scientist'}}\n"
     ]
    }
   ],
   "source": [
    "dict6={\"name\":{\"first\":\"Augstino\", \"Last\":\"Ndeti\"}, \"age\":22, \"Profession\":{\"Senior Data Scientist\",\"Business Developer\", \"Web Developer\"}} #used where one key has 2 values\n",
    "print(dict6)\n"
   ]
  },
  {
   "cell_type": "markdown",
   "metadata": {},
   "source": [
    "# Additing items in a dictionary"
   ]
  },
  {
   "cell_type": "code",
   "execution_count": 175,
   "metadata": {},
   "outputs": [
    {
     "name": "stdout",
     "output_type": "stream",
     "text": [
      "{0: 'Welcome'}\n"
     ]
    }
   ],
   "source": [
    "#Additing items in a dictionary\n",
    "dictA={}\n",
    "dictA[0]=\"Welcome\"\n",
    "print(dictA)\n"
   ]
  },
  {
   "cell_type": "code",
   "execution_count": 176,
   "metadata": {},
   "outputs": [
    {
     "name": "stdout",
     "output_type": "stream",
     "text": [
      "{0: 'Welcome', 1: 'How are you'}\n"
     ]
    }
   ],
   "source": [
    "dictA[1]=\"How are you\" #adding the second element at index 1\n",
    "print(dictA)\n"
   ]
  },
  {
   "cell_type": "code",
   "execution_count": 177,
   "metadata": {},
   "outputs": [
    {
     "name": "stdout",
     "output_type": "stream",
     "text": [
      "{0: 'Welcome', 1: ('How', 'are', 'you')}\n"
     ]
    }
   ],
   "source": [
    "dictA[1]=(\"How\", \"are\", \"you\") #adding an element an element as a tuple with three elements\n",
    "print(dictA)\n"
   ]
  },
  {
   "cell_type": "code",
   "execution_count": 178,
   "metadata": {},
   "outputs": [
    {
     "name": "stdout",
     "output_type": "stream",
     "text": [
      "{0: 'Welcome', 1: ('How', 'are', 'you'), 'name': {'first': 'Bytes', 'Last': 'Mulu'}}\n"
     ]
    }
   ],
   "source": [
    "# Adding elements which are strings\n",
    "dictA[\"name\"]={\"first\":\"Bytes\", \"Last\":\"Mulu\"}\n",
    "print(dictA)\n"
   ]
  },
  {
   "cell_type": "markdown",
   "metadata": {},
   "source": [
    "# Accessing Elements in Dictionaries"
   ]
  },
  {
   "cell_type": "code",
   "execution_count": 179,
   "metadata": {},
   "outputs": [
    {
     "name": "stdout",
     "output_type": "stream",
     "text": [
      "{0: 'Welcome', 1: ('How', 'are', 'you'), 'name': {'first': 'Bytes', 'Last': 'Mulu'}}\n"
     ]
    }
   ],
   "source": [
    "print(dictA)\n"
   ]
  },
  {
   "cell_type": "code",
   "execution_count": 180,
   "metadata": {},
   "outputs": [
    {
     "name": "stdout",
     "output_type": "stream",
     "text": [
      "{'first': 'Bytes', 'Last': 'Mulu'}\n"
     ]
    }
   ],
   "source": [
    "print(dictA[\"name\"]) # accessing the name from the dictionary\n"
   ]
  },
  {
   "cell_type": "code",
   "execution_count": 181,
   "metadata": {},
   "outputs": [
    {
     "name": "stdout",
     "output_type": "stream",
     "text": [
      "Bytes\n"
     ]
    }
   ],
   "source": [
    "print(dictA[\"name\"][\"first\"]) # accessing the firstname from the dictionary\n"
   ]
  },
  {
   "cell_type": "markdown",
   "metadata": {},
   "source": [
    "# The get method, mostly used method to access items\n"
   ]
  },
  {
   "cell_type": "code",
   "execution_count": 182,
   "metadata": {},
   "outputs": [
    {
     "name": "stdout",
     "output_type": "stream",
     "text": [
      "{0: 'Welcome', 1: ('How', 'are', 'you'), 'name': {'first': 'Bytes', 'Last': 'Mulu'}}\n"
     ]
    }
   ],
   "source": [
    "print(dictA)\n"
   ]
  },
  {
   "cell_type": "code",
   "execution_count": 183,
   "metadata": {},
   "outputs": [
    {
     "name": "stdout",
     "output_type": "stream",
     "text": [
      "('How', 'are', 'you')\n"
     ]
    }
   ],
   "source": [
    "print(dictA.get(1))\n"
   ]
  },
  {
   "cell_type": "markdown",
   "metadata": {},
   "source": [
    "# Deleting elements in a dictionary\n"
   ]
  },
  {
   "cell_type": "code",
   "execution_count": 184,
   "metadata": {},
   "outputs": [
    {
     "name": "stdout",
     "output_type": "stream",
     "text": [
      "{0: 'Welcome', 1: ('How', 'are', 'you'), 'name': {'first': 'Bytes', 'Last': 'Mulu'}}\n"
     ]
    }
   ],
   "source": [
    "print(dictA)\n"
   ]
  },
  {
   "cell_type": "code",
   "execution_count": 185,
   "metadata": {},
   "outputs": [
    {
     "data": {
      "text/plain": [
       "'Welcome'"
      ]
     },
     "execution_count": 185,
     "metadata": {},
     "output_type": "execute_result"
    }
   ],
   "source": [
    "# The pop method\n",
    "dictA.pop(0) # deleting the first element, which is at index 0\n"
   ]
  },
  {
   "cell_type": "code",
   "execution_count": 186,
   "metadata": {},
   "outputs": [
    {
     "name": "stdout",
     "output_type": "stream",
     "text": [
      "{1: ('How', 'are', 'you'), 'name': {'first': 'Bytes', 'Last': 'Mulu'}}\n"
     ]
    }
   ],
   "source": [
    "print(dictA) # Now \"Welcome\" shouldn't exist\n"
   ]
  },
  {
   "cell_type": "code",
   "execution_count": 187,
   "metadata": {},
   "outputs": [
    {
     "data": {
      "text/plain": [
       "('name', {'first': 'Bytes', 'Last': 'Mulu'})"
      ]
     },
     "execution_count": 187,
     "metadata": {},
     "output_type": "execute_result"
    }
   ],
   "source": [
    "dictA.popitem() # Deletes the last item\n",
    "\n"
   ]
  },
  {
   "cell_type": "code",
   "execution_count": 188,
   "metadata": {},
   "outputs": [
    {
     "name": "stdout",
     "output_type": "stream",
     "text": [
      "{1: ('How', 'are', 'you')}\n"
     ]
    }
   ],
   "source": [
    "print(dictA) # Now the dictionary of name shouldin't exist \n"
   ]
  },
  {
   "cell_type": "markdown",
   "metadata": {},
   "source": [
    "# Some in-built funtctions for operating dictionaries"
   ]
  },
  {
   "cell_type": "code",
   "execution_count": 189,
   "metadata": {},
   "outputs": [
    {
     "name": "stdout",
     "output_type": "stream",
     "text": [
      "{0: 'Welcome', 1: ('How', 'are', 'you'), 'name': {'first': 'Bytes', 'Last': 'Mulu'}}\n"
     ]
    }
   ],
   "source": [
    "dict6={0: 'Welcome', 1: ('How', 'are', 'you'), 'name': {'first': 'Bytes', 'Last': 'Mulu'}}\n",
    "print(dict6)\n"
   ]
  },
  {
   "cell_type": "code",
   "execution_count": 190,
   "metadata": {},
   "outputs": [
    {
     "data": {
      "text/plain": [
       "dict_values(['Welcome', ('How', 'are', 'you'), {'first': 'Bytes', 'Last': 'Mulu'}])"
      ]
     },
     "execution_count": 190,
     "metadata": {},
     "output_type": "execute_result"
    }
   ],
   "source": [
    "# first function is Values, which returns ass values of the dict\n",
    "dict6.values()\n"
   ]
  },
  {
   "cell_type": "code",
   "execution_count": 191,
   "metadata": {},
   "outputs": [
    {
     "data": {
      "text/plain": [
       "{'d': 1, 'b': 1, 'a': 1, 'c': 1}"
      ]
     },
     "execution_count": 191,
     "metadata": {},
     "output_type": "execute_result"
    }
   ],
   "source": [
    "# Second function is \"keys\", for creating a dictionary\n",
    "keys={\"a\", \"b\", \"c\", \"d\"}\n",
    "value=1\n",
    "dict.fromkeys(keys,value) # also note that dictionaries are un-ordered, and can print out their values randomly\n"
   ]
  },
  {
   "cell_type": "code",
   "execution_count": 192,
   "metadata": {},
   "outputs": [],
   "source": [
    "# 3rd method is the clear method, used to clear the dict completely\n",
    "dict6.clear()\n"
   ]
  },
  {
   "cell_type": "code",
   "execution_count": 193,
   "metadata": {},
   "outputs": [
    {
     "name": "stdout",
     "output_type": "stream",
     "text": [
      "{}\n"
     ]
    }
   ],
   "source": [
    "print(dict6) # The outcome should be empty curly-braces because dict6 is clered above here\n"
   ]
  },
  {
   "cell_type": "markdown",
   "metadata": {},
   "source": [
    "# Sets in Python"
   ]
  },
  {
   "cell_type": "code",
   "execution_count": 194,
   "metadata": {},
   "outputs": [
    {
     "name": "stdout",
     "output_type": "stream",
     "text": [
      "{1, 2, 3, 4}\n",
      "<class 'set'>\n"
     ]
    }
   ],
   "source": [
    "# Every value is unique in a set, and is mutable, also no key value pairs\n",
    "setA=set([1,2,3,4])\n",
    "print(setA)\n",
    "print(type(setA))\n",
    "\n"
   ]
  },
  {
   "cell_type": "code",
   "execution_count": 195,
   "metadata": {},
   "outputs": [
    {
     "name": "stdout",
     "output_type": "stream",
     "text": [
      "{1, 2, 3, 4, 'Augastino'}\n"
     ]
    }
   ],
   "source": [
    "#Adding elements in a set\n",
    "\n",
    "setA.add(\"Augastino\")\n",
    "print(setA)\n"
   ]
  },
  {
   "cell_type": "code",
   "execution_count": 196,
   "metadata": {},
   "outputs": [
    {
     "name": "stdout",
     "output_type": "stream",
     "text": [
      "frozenset({1, 2, 3, 4})\n"
     ]
    }
   ],
   "source": [
    "# Frozen sets, that which are immutable\n",
    "frsetA=frozenset([1,2,3,4])\n",
    "print(frsetA)\n"
   ]
  },
  {
   "cell_type": "code",
   "execution_count": 197,
   "metadata": {},
   "outputs": [
    {
     "ename": "AttributeError",
     "evalue": "'frozenset' object has no attribute 'add'",
     "output_type": "error",
     "traceback": [
      "\u001b[1;31m---------------------------------------------------------------------------\u001b[0m",
      "\u001b[1;31mAttributeError\u001b[0m                            Traceback (most recent call last)",
      "Cell \u001b[1;32mIn[197], line 2\u001b[0m\n\u001b[0;32m      1\u001b[0m \u001b[38;5;66;03m# Try adding an element, which won't work since they're immutable\u001b[39;00m\n\u001b[1;32m----> 2\u001b[0m \u001b[43mfrsetA\u001b[49m\u001b[38;5;241;43m.\u001b[39;49m\u001b[43madd\u001b[49m(\u001b[38;5;124m\"\u001b[39m\u001b[38;5;124mAugastino\u001b[39m\u001b[38;5;124m\"\u001b[39m)\n",
      "\u001b[1;31mAttributeError\u001b[0m: 'frozenset' object has no attribute 'add'"
     ]
    }
   ],
   "source": [
    "# Try adding an element, which won't work since they're immutable\n",
    "frsetA.add(\"Augastino\")\n"
   ]
  },
  {
   "cell_type": "code",
   "execution_count": null,
   "metadata": {},
   "outputs": [],
   "source": [
    "# The error above is because frozen sets are immutable\n"
   ]
  },
  {
   "cell_type": "code",
   "execution_count": 198,
   "metadata": {},
   "outputs": [],
   "source": [
    "# Operating sets in Python like the sets in Maths\n",
    "set1=set([1,2,3,4])\n",
    "set2=set([3,4, 35,19,5,6])\n"
   ]
  },
  {
   "cell_type": "code",
   "execution_count": 199,
   "metadata": {},
   "outputs": [
    {
     "data": {
      "text/plain": [
       "{1, 2, 3, 4, 5, 6, 19, 35}"
      ]
     },
     "execution_count": 199,
     "metadata": {},
     "output_type": "execute_result"
    }
   ],
   "source": [
    "# Doing the union of sets\n",
    "set1.union(set2) #brings thesets together and removes any repetition\n"
   ]
  },
  {
   "cell_type": "code",
   "execution_count": 200,
   "metadata": {},
   "outputs": [
    {
     "data": {
      "text/plain": [
       "{1, 2}"
      ]
     },
     "execution_count": 200,
     "metadata": {},
     "output_type": "execute_result"
    }
   ],
   "source": [
    "#Subracting the set from another using the difference method\n",
    "set1.difference(set2) #subtracts elements of set1 which are also found in set2\n"
   ]
  }
 ],
 "metadata": {
  "kernelspec": {
   "display_name": "Python 3",
   "language": "python",
   "name": "python3"
  },
  "language_info": {
   "codemirror_mode": {
    "name": "ipython",
    "version": 3
   },
   "file_extension": ".py",
   "mimetype": "text/x-python",
   "name": "python",
   "nbconvert_exporter": "python",
   "pygments_lexer": "ipython3",
   "version": "3.12.2"
  }
 },
 "nbformat": 4,
 "nbformat_minor": 2
}
