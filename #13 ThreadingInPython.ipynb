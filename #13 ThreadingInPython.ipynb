{
 "cells": [
  {
   "cell_type": "code",
   "execution_count": 1,
   "metadata": {},
   "outputs": [
    {
     "name": "stdout",
     "output_type": "stream",
     "text": [
      "This a child thread\n",
      "This is a Parent thread\n"
     ]
    }
   ],
   "source": [
    "# A thread is a sequence of instructions in a program that can be executed independently of the remaining program\n",
    "# Example given below\n",
    "from threading import*\n",
    "def show():\n",
    "    print(\"This a child thread\")\n",
    "t=Thread(target=show())\n",
    "t.start()\n",
    "print(\"This is a Parent thread\")\n",
    "    \n"
   ]
  },
  {
   "cell_type": "markdown",
   "metadata": {},
   "source": [
    "# Method2 of creating a thread: by importing the thread class"
   ]
  },
  {
   "cell_type": "code",
   "execution_count": 3,
   "metadata": {},
   "outputs": [
    {
     "name": "stdout",
     "output_type": "stream",
     "text": [
      "\n",
      " This is a child class\n",
      " This is the main thread\n",
      "\n",
      " This is the main thread\n",
      "\n",
      " This is the main thread\n",
      "\n",
      " This is the main thread\n",
      "\n",
      " This is the main thread\n",
      "\n",
      "\n",
      " This is a child class\n",
      "\n",
      " This is a child class\n",
      "\n",
      " This is a child class\n",
      "\n",
      " This is a child class\n"
     ]
    }
   ],
   "source": [
    "# Another method of creating a thread\n",
    "from threading import*\n",
    "class MyThread(Thread):\n",
    "    def run(self):\n",
    "        for i in range(5):\n",
    "            print(\"\\n This is a child class\")\n",
    "t=MyThread()\n",
    "t.start()\n",
    "for i in range(5):\n",
    "    print(\"\\n This is the main thread\")\n"
   ]
  },
  {
   "cell_type": "markdown",
   "metadata": {},
   "source": [
    "# 3rd way to create threads\n"
   ]
  },
  {
   "cell_type": "code",
   "execution_count": 6,
   "metadata": {},
   "outputs": [
    {
     "name": "stdout",
     "output_type": "stream",
     "text": [
      " This is the child thread\n",
      " This is the child thread\n",
      " This is the child thread\n",
      " This is the child thread\n",
      " This is the child thread\n",
      "\n",
      " This is the Parent thread\n",
      "\n",
      " This is the Parent thread\n",
      "\n",
      " This is the Parent thread\n",
      "\n",
      " This is the Parent thread\n",
      "\n",
      " This is the Parent thread\n"
     ]
    }
   ],
   "source": [
    "from threading import*\n",
    "class Demo:\n",
    "    def show(self):\n",
    "        for i in range(5):\n",
    "            print(\" This is the child thread\")\n",
    "obj=Demo()\n",
    "t=Thread(target=obj.show())\n",
    "t.start()\n",
    "for i in range(5):\n",
    "    print(\"\\n This is the Parent thread\")\n",
    "\n"
   ]
  },
  {
   "cell_type": "markdown",
   "metadata": {},
   "source": [
    "# Multithreading"
   ]
  },
  {
   "cell_type": "code",
   "execution_count": 9,
   "metadata": {},
   "outputs": [
    {
     "name": "stdout",
     "output_type": "stream",
     "text": [
      "The number is 1\n",
      "The number is 2\n",
      "The number is 3\n",
      "The number is 4\n",
      "The number is 5\n",
      "The double of the number is 2\n",
      "The double of the number is 4\n",
      "The double of the number is 6\n",
      "The double of the number is 8\n",
      "The double of the number is 10\n",
      "The square of the number is; 1\n",
      "The square of the number is; 4\n",
      "The square of the number is; 9\n",
      "The square of the number is; 16\n",
      "The square of the number is; 25\n",
      "This is the main thread\n"
     ]
    }
   ],
   "source": [
    "# It's a model where multiple threads within a process execute independently while sharing the same resources (data, stacks..etc)\n",
    "\n",
    "# An example is given below\n",
    "\n",
    "from threading import*\n",
    "class Demo2:\n",
    "    def num(self):\n",
    "        for i in range(1,6):\n",
    "            print(\"The number is\", i)\n",
    "    def double(self):\n",
    "        for i in range(1,6):\n",
    "            print(\"The double of the number is\", i*2)\n",
    "    def square(self):\n",
    "        for i in range(1,6):\n",
    "            print(\"The square of the number is;\", i*i)\n",
    "\n",
    "obj=Demo2()\n",
    "t1=Thread(target=obj.num)\n",
    "t2=Thread(target=obj.double)\n",
    "t3=Thread(target=obj.square)\n",
    "\n",
    "t1.start()\n",
    "t2.start()\n",
    "t3.start()\n",
    "\n",
    "t1.join() # we use join to ensure these threads do not terminate before finishing their work\n",
    "t2.join()\n",
    "t3.join()\n",
    "\n",
    "print(\"This is the main thread\")\n",
    "\n",
    "            \n"
   ]
  },
  {
   "cell_type": "code",
   "execution_count": 10,
   "metadata": {},
   "outputs": [
    {
     "name": "stdout",
     "output_type": "stream",
     "text": [
      "The number is 1\n",
      "The double of the number is 2\n",
      "The square of the number is; 1\n",
      "The number is 2\n",
      "The double of the number is 4\n",
      "The square of the number is; 4\n",
      "The number is 3\n",
      "The double of the number is 6\n",
      "The square of the number is; 9\n",
      "The number is 4\n",
      "The double of the number is 8\n",
      "The square of the number is; 16\n",
      "The number is 5\n",
      "The double of the number is 10\n",
      "The square of the number is; 25\n",
      "This is the main thread\n"
     ]
    }
   ],
   "source": [
    "# Rectifying the code above\n",
    "# we add the sleep function\n",
    "\n",
    "from threading import*\n",
    "import time\n",
    "class Demo2:\n",
    "    def num(self):\n",
    "        for i in range(1,6):\n",
    "            print(\"The number is\", i)\n",
    "            time.sleep(1) # sleep function puts that thread on sleep for these seconds specified, for completion of execution\n",
    "            \n",
    "    def double(self):\n",
    "        for i in range(1,6):\n",
    "            print(\"The double of the number is\", i*2)\n",
    "            time.sleep(1)\n",
    "            \n",
    "    def square(self):\n",
    "        for i in range(1,6):\n",
    "            print(\"The square of the number is;\", i*i)\n",
    "            time.sleep(1)\n",
    "\n",
    "obj=Demo2()\n",
    "t1=Thread(target=obj.num)\n",
    "t2=Thread(target=obj.double)\n",
    "t3=Thread(target=obj.square)\n",
    "\n",
    "t1.start()\n",
    "time.sleep(0.2)\n",
    "\n",
    "t2.start()\n",
    "time.sleep(0.2)\n",
    "\n",
    "t3.start()\n",
    "time.sleep(0.2)\n",
    "\n",
    "t1.join() # we use join to ensure these threads do not terminate before finishing their work\n",
    "t2.join()\n",
    "t3.join()\n",
    "\n",
    "print(\"This is the main thread\")\n"
   ]
  }
 ],
 "metadata": {
  "kernelspec": {
   "display_name": "Python 3",
   "language": "python",
   "name": "python3"
  },
  "language_info": {
   "codemirror_mode": {
    "name": "ipython",
    "version": 3
   },
   "file_extension": ".py",
   "mimetype": "text/x-python",
   "name": "python",
   "nbconvert_exporter": "python",
   "pygments_lexer": "ipython3",
   "version": "3.12.2"
  }
 },
 "nbformat": 4,
 "nbformat_minor": 2
}
