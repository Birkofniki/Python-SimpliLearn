{
 "cells": [
  {
   "cell_type": "markdown",
   "metadata": {},
   "source": [
    "# If-Else statements in Python"
   ]
  },
  {
   "cell_type": "code",
   "execution_count": 23,
   "metadata": {},
   "outputs": [
    {
     "name": "stdout",
     "output_type": "stream",
     "text": [
      "This is Outside the block\n"
     ]
    }
   ],
   "source": [
    "a=20\n",
    "if a>50:\n",
    "    print(\"This is inside the block\")\n",
    "print(\"This is Outside the block\") # identation matters alot in Python\n"
   ]
  },
  {
   "cell_type": "code",
   "execution_count": 24,
   "metadata": {},
   "outputs": [
    {
     "name": "stdout",
     "output_type": "stream",
     "text": [
      "This is inside the block\n",
      "This is Outside the block\n"
     ]
    }
   ],
   "source": [
    "a=90\n",
    "if a>50:\n",
    "    print(\"This is inside the block\")\n",
    "print(\"This is Outside the block\") # identation matters alot in Python\n"
   ]
  },
  {
   "cell_type": "markdown",
   "metadata": {},
   "source": [
    "# if else statement in Python"
   ]
  },
  {
   "cell_type": "code",
   "execution_count": 25,
   "metadata": {},
   "outputs": [
    {
     "name": "stdout",
     "output_type": "stream",
     "text": [
      "This is within the if block, because i is completely divisible by 2\n",
      "i is an even number in this case\n"
     ]
    }
   ],
   "source": [
    "i=20\n",
    "if i%2==0:\n",
    "    print(\"This is within the if block, because i is completely divisible by 2\")\n",
    "    print(\"i is an even number in this case\")\n",
    "else:\n",
    "    print(\"This is the else block because i has a remainder when divided by 2\")\n",
    "    print(\"This is an odd number\")\n",
    "\n"
   ]
  },
  {
   "cell_type": "code",
   "execution_count": 26,
   "metadata": {},
   "outputs": [
    {
     "name": "stdout",
     "output_type": "stream",
     "text": [
      "This is in the else block because i has a remainder when divided by 2\n",
      "This is an odd number\n"
     ]
    }
   ],
   "source": [
    "i=21\n",
    "if i%2==0:\n",
    "    print(\"This is within the if block, because i is completely divisible by 2\")\n",
    "    print(\"i is an even number in this case\")\n",
    "else:\n",
    "    print(\"This is in the else block because i has a remainder when divided by 2\")\n",
    "    print(\"This is an odd number\")\n"
   ]
  },
  {
   "cell_type": "markdown",
   "metadata": {},
   "source": [
    "# The Nested if statement"
   ]
  },
  {
   "cell_type": "code",
   "execution_count": 27,
   "metadata": {},
   "outputs": [
    {
     "name": "stdout",
     "output_type": "stream",
     "text": [
      " 'a' is an odd number, which is also less than 25\n"
     ]
    }
   ],
   "source": [
    "# Finding whether a number is greater than 25 or less than 25, and also decide whether it is even or an odd number\n",
    "a=23\n",
    "if a<25:\n",
    "    if a%2==0:\n",
    "        print(\"'a' is an even number, which is also less than 25\")\n",
    "    else:\n",
    "        print(\" 'a' is an odd number, which is also less than 25\")\n",
    "else: # Note the identation here, the parent if is paired with else below, the the second if is paired with else in same position\n",
    "    print(\" 'a' is greater than 25 \")\n"
   ]
  },
  {
   "cell_type": "code",
   "execution_count": 28,
   "metadata": {},
   "outputs": [
    {
     "name": "stdout",
     "output_type": "stream",
     "text": [
      " 'a' is greater than 25 \n"
     ]
    }
   ],
   "source": [
    "a=252\n",
    "if a<25:\n",
    "    if a%2==0:\n",
    "        print(\"'a' is an even number, which is also less than 25\")\n",
    "    else:\n",
    "        print(\" 'a' is an odd number, which is also less than 25\")\n",
    "else: # Note the identation here, the parent if is paired with else below, the the second if is paired with else in same position\n",
    "    print(\" 'a' is greater than 25 \")\n"
   ]
  },
  {
   "cell_type": "code",
   "execution_count": null,
   "metadata": {},
   "outputs": [],
   "source": []
  }
 ],
 "metadata": {
  "kernelspec": {
   "display_name": "Python 3",
   "language": "python",
   "name": "python3"
  },
  "language_info": {
   "codemirror_mode": {
    "name": "ipython",
    "version": 3
   },
   "file_extension": ".py",
   "mimetype": "text/x-python",
   "name": "python",
   "nbconvert_exporter": "python",
   "pygments_lexer": "ipython3",
   "version": "3.12.2"
  }
 },
 "nbformat": 4,
 "nbformat_minor": 2
}
